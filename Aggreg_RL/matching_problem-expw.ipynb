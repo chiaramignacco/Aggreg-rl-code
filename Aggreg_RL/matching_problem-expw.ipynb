{
 "cells": [
  {
   "cell_type": "code",
   "execution_count": 1,
   "id": "a1f3f280-dc68-4788-b5cc-879f82abf9b9",
   "metadata": {},
   "outputs": [],
   "source": [
    "%load_ext autoreload \n",
    "%autoreload 2\n",
    "\n",
    "from imports import *\n",
    "import queue_system as qs\n",
    "from queue_system import *\n",
    "\n",
    "seed = random.seed(10)\n",
    "seed_np = np.random.seed(10)"
   ]
  },
  {
   "cell_type": "markdown",
   "id": "75733413-fa22-4a27-8cb0-b0c246d96ba3",
   "metadata": {
    "tags": []
   },
   "source": [
    "# Aggregation"
   ]
  },
  {
   "cell_type": "code",
   "execution_count": 2,
   "id": "9d7bebdc-9f38-4786-a180-c0177c1ab07f",
   "metadata": {},
   "outputs": [],
   "source": [
    "with open('Q/Q_start.pkl', \"rb\") as fp:\n",
    "    Q_start = pickle.load(fp)"
   ]
  },
  {
   "cell_type": "code",
   "execution_count": 3,
   "id": "6ae40a71-fb64-4ab3-a642-c3f559631f2d",
   "metadata": {},
   "outputs": [],
   "source": [
    "weights_dict = {}\n",
    "model_agg = Aggregation(graph, arrival_rates, experts, eta, queue_max)\n",
    "model = StochasticMatching(graph, arrival_rates, queue_max)\n",
    "\n",
    "len_updates = 500\n",
    "res = int(len_updates / 100)\n",
    "num_repeat_est = 1\n",
    "\n",
    "weights_dict['-1'] = {state: np.array([1/K] * K) for state in state_space_ind.keys()}\n",
    "\n",
    "repeat_weights = 10\n",
    "learning_rate = 0.00014"
   ]
  },
  {
   "cell_type": "code",
   "execution_count": 4,
   "id": "7a4e904d-d588-43cb-a2ed-a37313679f4d",
   "metadata": {},
   "outputs": [
    {
     "name": "stderr",
     "output_type": "stream",
     "text": [
      "100%|█████████████████████████████████████████| 501/501 [03:41<00:00,  2.26it/s]\n",
      "100%|█████████████████████████████████████████| 501/501 [03:42<00:00,  2.25it/s]\n",
      "100%|█████████████████████████████████████████| 501/501 [03:45<00:00,  2.22it/s]\n",
      "100%|█████████████████████████████████████████| 501/501 [03:15<00:00,  2.56it/s]\n",
      "100%|█████████████████████████████████████████| 501/501 [03:10<00:00,  2.63it/s]\n",
      "100%|█████████████████████████████████████████| 501/501 [03:10<00:00,  2.63it/s]\n",
      "100%|█████████████████████████████████████████| 501/501 [03:38<00:00,  2.29it/s]\n",
      "100%|█████████████████████████████████████████| 501/501 [03:10<00:00,  2.64it/s]\n",
      "100%|█████████████████████████████████████████| 501/501 [03:11<00:00,  2.62it/s]\n",
      "100%|█████████████████████████████████████████| 501/501 [03:13<00:00,  2.59it/s]"
     ]
    },
    {
     "name": "stdout",
     "output_type": "stream",
     "text": [
      "CPU times: user 32min 47s, sys: 3min 53s, total: 36min 41s\n",
      "Wall time: 34min\n"
     ]
    },
    {
     "name": "stderr",
     "output_type": "stream",
     "text": [
      "\n"
     ]
    }
   ],
   "source": [
    "%%time \n",
    "random.seed(6)\n",
    "np.random.seed(6)\n",
    "for n in range(repeat_weights):\n",
    "    weights_dict = {}\n",
    "    model_agg = Aggregation(graph, arrival_rates, experts, eta, queue_max, Q_start)\n",
    "    model = StochasticMatching(graph, arrival_rates, queue_max)\n",
    "    weights_dict['-1'] =  np.ones([num_states, K]) / K \n",
    "    \n",
    "    for i in tqdm(range(len_updates + 1)):\n",
    "        if (i <= 200) and (i%10 == 0):\n",
    "            weights = model_agg.aggregation_update_exp(discount, learning_rate, model, H, k, num_repeat_est)\n",
    "            weights_dict[str(i)] = weights.copy()\n",
    "            random_state = state_space[random.randint(0, len(state_space)-1)]\n",
    "            \n",
    "        elif (i%res == 0) and (i>200):\n",
    "            weights = model_agg.aggregation_update_exp(discount, learning_rate, model, H, k, num_repeat_est)\n",
    "            weights_dict[str(i)] = weights.copy()\n",
    "            random_state = state_space[random.randint(0, len(state_space)-1)]\n",
    "\n",
    "        else:\n",
    "            weights = model_agg.aggregation_update_exp(discount, learning_rate, model, H, k, num_repeat_est)\n",
    "\n",
    "    with open('weights/weights_expw_' + str(n) + '.pkl', 'wb') as output:\n",
    "        pickle.dump(weights_dict, output)\n",
    "     "
   ]
  }
 ],
 "metadata": {
  "kernelspec": {
   "display_name": "Python 3 (ipykernel)",
   "language": "python",
   "name": "python3"
  },
  "language_info": {
   "codemirror_mode": {
    "name": "ipython",
    "version": 3
   },
   "file_extension": ".py",
   "mimetype": "text/x-python",
   "name": "python",
   "nbconvert_exporter": "python",
   "pygments_lexer": "ipython3",
   "version": "3.9.13"
  }
 },
 "nbformat": 4,
 "nbformat_minor": 5
}
