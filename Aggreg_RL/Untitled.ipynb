{
 "cells": [
  {
   "cell_type": "code",
   "execution_count": 1,
   "id": "9ed69b2f-1c66-4576-b51e-628014ff67c2",
   "metadata": {},
   "outputs": [],
   "source": [
    "def timeConversion(s):\n",
    "    # Write your code here\n",
    "    day_part = s[-2:]\n",
    "    \n",
    "    if day_part == 'AM':\n",
    "        hour = int(s[0:2])\n",
    "        hour = hour % 12\n",
    "        print(str(hour) + s[2:-2])\n",
    "        return str(hour) + s[2:-2]\n",
    "    elif day_part == 'PM':\n",
    "        hour = int(s[0:2])\n",
    "        # print(s[0:2])\n",
    "        if hour == 12:\n",
    "            print(str(hour) + s[2:-2])\n",
    "            return str(hour) + s[2:-2]\n",
    "        else:\n",
    "            hour = (hour) % 24 + 12\n",
    "            print(str(hour) + s[2:-2])\n",
    "            return str(hour) + s[2:-2]\n",
    "    else:\n",
    "        print('Error: input format')"
   ]
  },
  {
   "cell_type": "code",
   "execution_count": 2,
   "id": "8254ab0e-bd92-4beb-a716-af40205c2550",
   "metadata": {},
   "outputs": [
    {
     "name": "stdout",
     "output_type": "stream",
     "text": [
      "0:40:22\n"
     ]
    },
    {
     "data": {
      "text/plain": [
       "'0:40:22'"
      ]
     },
     "execution_count": 2,
     "metadata": {},
     "output_type": "execute_result"
    }
   ],
   "source": [
    "timeConversion('12:40:22AM')"
   ]
  },
  {
   "cell_type": "code",
   "execution_count": 18,
   "id": "d1ca019a-3b88-47dc-8224-823b88a73574",
   "metadata": {},
   "outputs": [],
   "source": [
    "a = [1,2, 3, 4, 3, 2, 1]\n",
    "s = set(a)"
   ]
  },
  {
   "cell_type": "code",
   "execution_count": 19,
   "id": "9e4cbbec-c54c-4fd5-a571-278d8fc582f0",
   "metadata": {},
   "outputs": [
    {
     "data": {
      "text/plain": [
       "4"
      ]
     },
     "execution_count": 19,
     "metadata": {},
     "output_type": "execute_result"
    }
   ],
   "source": [
    "2* sum(s) - sum(a)"
   ]
  },
  {
   "cell_type": "code",
   "execution_count": null,
   "id": "220b07a7-bfe1-4d93-9c60-97597c5663fd",
   "metadata": {},
   "outputs": [],
   "source": []
  }
 ],
 "metadata": {
  "kernelspec": {
   "display_name": "Python 3 (ipykernel)",
   "language": "python",
   "name": "python3"
  },
  "language_info": {
   "codemirror_mode": {
    "name": "ipython",
    "version": 3
   },
   "file_extension": ".py",
   "mimetype": "text/x-python",
   "name": "python",
   "nbconvert_exporter": "python",
   "pygments_lexer": "ipython3",
   "version": "3.9.13"
  }
 },
 "nbformat": 4,
 "nbformat_minor": 5
}
