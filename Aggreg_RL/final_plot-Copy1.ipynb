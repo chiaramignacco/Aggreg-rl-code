{
 "cells": [
  {
   "cell_type": "code",
   "execution_count": 1,
   "id": "8fee8bba-049f-4281-b450-f7620e30f36c",
   "metadata": {},
   "outputs": [],
   "source": [
    "%load_ext autoreload \n",
    "%autoreload 2\n",
    "\n",
    "from imports import *\n",
    "import queue_system as qs\n",
    "from queue_system import *\n",
    "\n",
    "seed = random.seed(10)\n",
    "seed_np = np.random.seed(10)"
   ]
  },
  {
   "cell_type": "markdown",
   "id": "38f2a226-8061-4450-b1ff-7ddf92dd1ffd",
   "metadata": {},
   "source": [
    "## Import values"
   ]
  },
  {
   "cell_type": "code",
   "execution_count": 2,
   "id": "4ab33204-15a0-452d-883b-7885d6158037",
   "metadata": {},
   "outputs": [],
   "source": [
    "with open('values/V_agg.pkl', \"rb\") as fp: \n",
    "    V_agg = pickle.load(fp)\n",
    "with open('values/V_star.pkl', \"rb\") as fp: \n",
    "    V_star = pickle.load(fp)\n",
    "with open('values/V_opt.pkl', \"rb\") as fp: \n",
    "    V_opt = pickle.load(fp)\n",
    "with open('values/V_exp.pkl', \"rb\") as fp: \n",
    "    V_exp = pickle.load(fp)"
   ]
  },
  {
   "cell_type": "markdown",
   "id": "1168a273-9c87-467c-a053-f91ac7ccd969",
   "metadata": {
    "tags": []
   },
   "source": [
    "## Import weights"
   ]
  },
  {
   "cell_type": "code",
   "execution_count": 56,
   "id": "53e49d3b-b653-45e7-b07e-039b2186d042",
   "metadata": {},
   "outputs": [
    {
     "data": {
      "text/plain": [
       "6"
      ]
     },
     "execution_count": 56,
     "metadata": {},
     "output_type": "execute_result"
    }
   ],
   "source": [
    "6 % 12"
   ]
  },
  {
   "cell_type": "code",
   "execution_count": 64,
   "id": "550a6571-944a-437d-8af0-9fed385c6826",
   "metadata": {},
   "outputs": [],
   "source": [
    "weights_OGD = []\n",
    "weights_polpot = []\n",
    "weights_expw_variable_eta = []\n",
    "weights_expw, weights_expw_NN1 = [], []\n",
    "\n",
    "\n",
    "repeat_weights = 10\n",
    "\n",
    "for n in range(repeat_weights):\n",
    "        \n",
    "    with open('weights/weights_expw_' + str(n) + '.pkl', \"rb\") as fp: \n",
    "        weights_expw.append(pickle.load(fp))\n",
    "    with open('weights/weights_expw_NN_1_' + str(n) + '.pkl', \"rb\") as fp: \n",
    "        weights_expw_NN1.append(pickle.load(fp))\n",
    "        \n",
    "    # with open('weights/weights_polpot_' + str(n) + '.pkl', \"rb\") as fp:\n",
    "    #     weights_polpot.append(pickle.load(fp))\n",
    "    # with open('weights/weights_expw_variable_eta_' + str(n) + '.pkl', \"rb\") as fp:\n",
    "    #     weights_expw_variable_eta.append(pickle.load(fp))        \n",
    "    #with open('weights_final/weights_OGD' + str(n) + '.pkl', \"rb\") as fp:\n",
    "    #    weights_OGD.append(pickle.load(fp)) "
   ]
  },
  {
   "cell_type": "code",
   "execution_count": 65,
   "id": "f455a44f-c848-4329-a9ef-d058188788a3",
   "metadata": {
    "tags": []
   },
   "outputs": [
    {
     "name": "stderr",
     "output_type": "stream",
     "text": [
      "100%|███████████████████████████████████████████| 10/10 [03:51<00:00, 23.16s/it]"
     ]
    },
    {
     "name": "stdout",
     "output_type": "stream",
     "text": [
      "CPU times: user 7min 50s, sys: 6min 31s, total: 14min 21s\n",
      "Wall time: 3min 51s\n"
     ]
    },
    {
     "name": "stderr",
     "output_type": "stream",
     "text": [
      "\n"
     ]
    }
   ],
   "source": [
    "%%time\n",
    "\n",
    "rewards_agg_b_expw = []\n",
    "rewards_agg_b_expw_NN1 = []\n",
    "rewards_agg_b_OGD = []\n",
    "rewards_agg_b_polpot = []\n",
    "rewards_agg_b_variable_eta = []\n",
    "\n",
    "for n in tqdm(range(repeat_weights)):\n",
    "    \n",
    "    \n",
    "    rewards_agg_b_expw.append([])\n",
    "    rewards_agg_b_expw_NN1.append([])\n",
    "    rewards_agg_b_OGD.append([])\n",
    "    rewards_agg_b_polpot.append([])\n",
    "    rewards_agg_b_variable_eta.append([])\n",
    "    \n",
    "\n",
    "        \n",
    "    # for updates, weights in weights_expw[n].items():\n",
    "    #     P_agg, r_agg = compute_transitions_and_rewards_avg(weights)\n",
    "    #     V_agg = compute_value_bellman(P_agg, r_agg)\n",
    "    #     V_agg_pi0 = 0\n",
    "    #     for i in range(len(verteces)):\n",
    "    #         state = np.zeros(len(verteces))\n",
    "    #         state[i] += 1\n",
    "    #         ind = str(val_list.index(tuple(state)))\n",
    "    #         V_agg_pi0 += prob_arrival[i] * V_agg[int(ind)]\n",
    "    #     rewards_agg_b_expw[-1].append(V_agg_pi0)\n",
    "        \n",
    "        \n",
    "    # for updates, weights in weights_expw_NN[n].items():\n",
    "    #     P_agg, r_agg = compute_transitions_and_rewards_avg(weights)\n",
    "    #     V_agg = compute_value_bellman(P_agg, r_agg)\n",
    "    #     V_agg_pi0 = 0\n",
    "    #     for i in range(len(verteces)):\n",
    "    #         state = np.zeros(len(verteces))\n",
    "    #         state[i] += 1\n",
    "    #         ind = str(val_list.index(tuple(state)))\n",
    "    #         V_agg_pi0 += prob_arrival[i] * V_agg[int(ind)]\n",
    "    #     rewards_agg_b_expw_NN[-1].append(V_agg_pi0)\n",
    "        \n",
    "    for updates, weights in weights_expw_NN1[n].items():\n",
    "        P_agg, r_agg = compute_transitions_and_rewards_avg(weights)\n",
    "        V_agg = compute_value_bellman(P_agg, r_agg)\n",
    "        V_agg_pi0 = 0\n",
    "        for i in range(len(verteces)):\n",
    "            state = np.zeros(len(verteces))\n",
    "            state[i] += 1\n",
    "            ind = str(val_list.index(tuple(state)))\n",
    "            V_agg_pi0 += prob_arrival[i] * V_agg[int(ind)]\n",
    "        rewards_agg_b_expw_NN1[-1].append(V_agg_pi0)\n",
    "        \n",
    "#     for updates, weights in tqdm(weights_polpot[n].items()):\n",
    "#         P_agg, r_agg = compute_transitions_and_rewards_avg(weights)\n",
    "#         V_agg = compute_value_bellman(P_agg, r_agg)\n",
    "#         V_agg_pi0 = 0\n",
    "#         for i in range(len(verteces)):\n",
    "#             state = np.zeros(len(verteces))\n",
    "#             state[i] += 1\n",
    "#             ind = str(val_list.index(tuple(state)))\n",
    "#             V_agg_pi0 += prob_arrival[i] * V_agg[int(ind)]\n",
    "#         rewards_agg_b_polpot[-1].append(V_agg_pi0)\n",
    "\n",
    "    #for updates, weights in weights_OGD[n].items():\n",
    "    #    P_agg, r_agg = compute_transitions_and_rewards_avg(weights)\n",
    "    #    V_agg = compute_value_bellman(P_agg, r_agg)\n",
    "    #    V_agg_pi0 = 0\n",
    "    #    for i in range(len(verteces)):\n",
    "    #        state = np.zeros(len(verteces))\n",
    "    #        state[i] += 1\n",
    "    #        ind = str(val_list.index(tuple(state)))\n",
    "    #        V_agg_pi0 += prob_arrival[i] * V_agg[int(ind)]\n",
    "    #    rewards_agg_b_OGD[-1].append(V_agg_pi0)\n",
    "    \n",
    "#     for updates, weights in tqdm(weights_expw_variable_eta[n].items()):\n",
    "#         P_agg, r_agg = compute_transitions_and_rewards_avg(weights)\n",
    "#         V_agg = compute_value_bellman(P_agg, r_agg)\n",
    "#         V_agg_pi0 = 0\n",
    "#         for i in range(len(verteces)):\n",
    "#             state = np.zeros(len(verteces))\n",
    "#             state[i] += 1\n",
    "#             ind = str(val_list.index(tuple(state)))\n",
    "#             V_agg_pi0 += prob_arrival[i] * V_agg[int(ind)]\n",
    "#         rewards_agg_b_variable_eta[-1].append(V_agg_pi0)\n",
    "        "
   ]
  },
  {
   "cell_type": "code",
   "execution_count": 66,
   "id": "9ba2f7b6-cfeb-4344-9e3c-0b749b1bd2d5",
   "metadata": {},
   "outputs": [],
   "source": [
    "# mean\n",
    "# rewards_expw_mean = np.mean(rewards_agg_b_expw, axis=0)\n",
    "# rewards_expw_NN_mean = np.mean(rewards_agg_b_expw_NN, axis=0)\n",
    "rewards_expw_NN1_mean = np.mean(rewards_agg_b_expw_NN1, axis=0)\n",
    "rewards_OGD_mean = np.mean(rewards_agg_b_OGD, axis=0)\n",
    "rewards_polpot_mean = np.mean(rewards_agg_b_polpot, axis=0)\n",
    "rewards_variable_eta_mean = np.mean(rewards_agg_b_variable_eta, axis=0)\n",
    "\n",
    "\n",
    "# std\n",
    "# rewards_expw_std = np.std(rewards_agg_b_expw, axis=0)\n",
    "# rewards_expw_NN_std = np.std(rewards_agg_b_expw_NN, axis=0)\n",
    "rewards_expw_NN1_std = np.std(rewards_agg_b_expw_NN1, axis=0)\n",
    "rewards_OGD_std = np.std(rewards_agg_b_OGD, axis=0)\n",
    "rewards_polpot_std = np.std(rewards_agg_b_polpot, axis=0)\n",
    "rewards_variable_eta_std = np.std(rewards_agg_b_variable_eta, axis=0)"
   ]
  },
  {
   "cell_type": "markdown",
   "id": "43bfd823-8f06-45dc-a5c8-40e5bdd3f2b9",
   "metadata": {
    "tags": []
   },
   "source": [
    "# Final Plot"
   ]
  },
  {
   "cell_type": "markdown",
   "id": "ee3722a2-0d68-4aed-be1a-6b235d65cf1e",
   "metadata": {
    "tags": []
   },
   "source": [
    "## average over $\\pi_0$"
   ]
  },
  {
   "cell_type": "code",
   "execution_count": 67,
   "id": "c3393d3b-2063-4cb2-91da-e5ffb6c132e7",
   "metadata": {},
   "outputs": [],
   "source": [
    "V_star_pi0 = 0\n",
    "for i in range(len(verteces)):\n",
    "    state = np.zeros(len(verteces))\n",
    "    state[i] += 1\n",
    "    ind = str(val_list.index(tuple(state)))\n",
    "    V_star_pi0 += prob_arrival[i] * V_star[int(ind)]\n",
    "    #print(state_space_ind[ind])\n",
    "    \n",
    "V_opt_pi0 = 0\n",
    "for i in range(len(verteces)):\n",
    "    state = np.zeros(len(verteces))\n",
    "    state[i] += 1\n",
    "    ind = str(val_list.index(tuple(state)))\n",
    "    V_opt_pi0 += prob_arrival[i] * V_opt[int(ind)]\n",
    "    #print(state_space_ind[ind])"
   ]
  },
  {
   "cell_type": "code",
   "execution_count": 68,
   "id": "484c8c9c-5eb7-4f96-a5b6-4de341a30010",
   "metadata": {},
   "outputs": [],
   "source": [
    "V_exp_pi0 = {str(exp) : 0 for exp in experts}\n",
    "for v, exp in zip(V_exp, experts):\n",
    "    for i in range(len(verteces)):\n",
    "        state = np.zeros(len(verteces))\n",
    "        state[i] += 1\n",
    "        ind = str(val_list.index(tuple(state)))\n",
    "        V_exp_pi0[str(exp)] += prob_arrival[i] * v[int(ind)]\n",
    "        #print(state_space_ind[ind])"
   ]
  },
  {
   "cell_type": "markdown",
   "id": "84cd1e4d-fbdd-47a2-bff8-b6d967c92403",
   "metadata": {},
   "source": [
    "## Plot"
   ]
  },
  {
   "cell_type": "code",
   "execution_count": 69,
   "id": "530033f0-7d19-4876-a0de-38d70623ec4d",
   "metadata": {},
   "outputs": [
    {
     "data": {
      "image/png": "[encoded data removed]",
      "text/plain": [
       "<Figure size 1000x800 with 1 Axes>"
      ]
     },
     "metadata": {},
     "output_type": "display_data"
    }
   ],
   "source": [
    "values_list = []\n",
    "\n",
    "updates_x = np.array(range(82)) * 100 #* 5000\n",
    "updates_NN = np.array(range(22)) * 100 \n",
    "\n",
    "figure(figsize=(10, 8))\n",
    "\n",
    "\n",
    "plt.hlines(V_star_pi0, 0, updates_x[-1], 'black',  linewidth=1.1, label = '$V^{\\star}(\\mu_0), V_{q_\\star\\Pi}(\\mu_0)$')\n",
    "plt.hlines(V_opt_pi0, 0, updates_x[-1], 'black', ls ='dashdot',  linewidth=1.1, label = '$V_{q_\\star\\Pi}(\\mu_0)$')\n",
    "\n",
    "\n",
    "# ci_polpot = 2 * rewards_polpot_std #/ np.sqrt(10) \n",
    "# plt.plot(updates_x, rewards_polpot_mean, 'C2', linewidth=.8, label='$V_{\\widetilde{q}_t\\Pi}(\\mu_0)$ (polynomial pot.)')\n",
    "# plt.fill_between(updates_x, (rewards_polpot_mean-ci_polpot), (rewards_polpot_mean+ci_polpot), color='C2', alpha=.1)\n",
    "\n",
    "# ci_exp_var = 2 * rewards_variable_eta_std \n",
    "# plt.plot(updates_x, rewards_variable_eta_mean , 'C3',linewidth=.8,  label='$V_{\\widetilde{q}_t\\Pi}$ (exponential pot. $\\eta_t$)')\n",
    "# plt.fill_between(updates_x, (rewards_variable_eta_mean -ci_exp_var), (rewards_variable_eta_mean  +ci_exp_var), color='C3', alpha=.1)\n",
    "\n",
    "#ci_OGD = 2 * rewards_OGD_std \n",
    "#plt.plot(updates_x[:68], rewards_OGD_mean , 'C4',linewidth=.8,  label='$V_{\\widetilde{q}_t\\Pi}$ (greedy projection)')\n",
    "#plt.fill_between(updates_x[:68], (rewards_OGD_mean -ci_OGD), (rewards_OGD_mean + ci_OGD), color='C4', alpha=.1)\n",
    "\n",
    "# ci_expw = 2 * rewards_expw_std \n",
    "# plt.plot(updates_x, rewards_expw_mean, 'b',linewidth=.8,  label='$V_{\\widetilde{q}_t\\Pi}$ (exponential pot. $\\eta$ fixed)')\n",
    "# plt.fill_between(updates_x, (rewards_expw_mean -ci_expw), (rewards_expw_mean +ci_expw), color='b', alpha=.1)\n",
    "\n",
    "# ci_expw_NN = 2 * rewards_expw_NN_std\n",
    "# plt.plot(updates_NN, rewards_expw_NN_mean, 'm',linewidth=.8,  label='$V_{\\widetilde{q}_t\\Pi}$ (exponential pot. NN)')\n",
    "# plt.fill_between(updates_NN, (rewards_expw_NN_mean -ci_expw_NN), (rewards_expw_NN_mean +ci_expw_NN), color='m', alpha=.1)\n",
    "\n",
    "# for i, rewards in enumerate(rewards_agg_b_expw_NN):\n",
    "#     if i == 0:\n",
    "#         plt.plot(updates_NN, rewards, 'red', linewidth=.8, label='NN traj.')\n",
    "#     else:\n",
    "#         plt.plot(updates_NN, rewards, 'red', linewidth=.8)\n",
    "    \n",
    "\n",
    "ci_expw_NN1 = 2 * rewards_expw_NN1_std\n",
    "plt.plot(updates_NN, rewards_expw_NN1_mean, 'm',linewidth=.8,  label='$V_{\\widetilde{q}_t\\Pi}$ (exponential pot. NN)')\n",
    "plt.fill_between(updates_NN, (rewards_expw_NN1_mean -ci_expw_NN1), (rewards_expw_NN1_mean +ci_expw_NN1), color='m', alpha=.1)\n",
    "\n",
    "# for i, rewards in enumerate(rewards_agg_b_expw_NN1):\n",
    "#     if i == 0:\n",
    "#         plt.plot(updates_NN, rewards, 'red', linewidth=.8, label='NN traj.')\n",
    "#     else:\n",
    "#         plt.plot(updates_NN, rewards, 'red', linewidth=.8)\n",
    "        \n",
    "c = ['dimgrey', 'darkgrey', 'lightgrey', 'grey', 'darkgrey']\n",
    "count = 0\n",
    "    \n",
    "V_exp_sorted = sorted(V_exp_pi0.items(), key=lambda x:x[1], reverse= True)\n",
    "\n",
    "for item in V_exp_sorted:\n",
    "    plt.hlines(item[1], 0, updates_x[-1], c[count], linestyle='dashed', linewidth=1.1, label = '$V_{\\pi_' + str(exp_ind[item[0]] +1 ) + '}(\\mu_0)$')\n",
    "    count += 1\n",
    "\n",
    "plt.xlabel('$t$', fontsize=16)\n",
    "plt.ylabel('V-value', fontsize=16)\n",
    "# plt.xlim((0, 200))\n",
    "# plt.ylim((1.08, 1.09))\n",
    "#plt.title('Values comparison')\n",
    "plt.legend(loc='lower right', fontsize=16)\n",
    "#plt.legend(loc='center left', bbox_to_anchor=(1, 0.5))\n",
    "plt.tight_layout()\n",
    "plt.savefig('figures/policies_performance5.pdf')"
   ]
  }
 ],
 "metadata": {
  "kernelspec": {
   "display_name": "Python 3 (ipykernel)",
   "language": "python",
   "name": "python3"
  },
  "language_info": {
   "codemirror_mode": {
    "name": "ipython",
    "version": 3
   },
   "file_extension": ".py",
   "mimetype": "text/x-python",
   "name": "python",
   "nbconvert_exporter": "python",
   "pygments_lexer": "ipython3",
   "version": "3.9.13"
  }
 },
 "nbformat": 4,
 "nbformat_minor": 5
}
