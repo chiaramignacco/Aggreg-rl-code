{
 "cells": [
  {
   "cell_type": "code",
   "execution_count": 1,
   "id": "a1f3f280-dc68-4788-b5cc-879f82abf9b9",
   "metadata": {},
   "outputs": [],
   "source": [
    "import matplotlib.pyplot as plt\n",
    "import numpy as np\n",
    "import itertools\n",
    "import random \n",
    "import pickle\n",
    "from matplotlib.pyplot import figure\n",
    "import time\n",
    "from tqdm import tqdm\n",
    "\n",
    "from stoc_match import StochasticMatching, Aggregation"
   ]
  },
  {
   "cell_type": "code",
   "execution_count": 2,
   "id": "27b146dc-5f88-4b02-8d98-10be4f6e413a",
   "metadata": {},
   "outputs": [],
   "source": [
    "verteces = ['A', 'B', 'C', 'D']\n",
    "\n",
    "\n",
    "\n",
    "graph = {\n",
    "    'A': [('B', 200), ('C', 10), ('D', 50)],\n",
    "    'B': [('A', 200), ('D', 20)],\n",
    "    'C': [('A', 10), ('D', 1)],\n",
    "    'D': [('A', 50), ('B', 20), ('C', 1)]\n",
    "}\n",
    "\n",
    "arrival_rates = {\n",
    "    'A': 0.9,\n",
    "    'B': 0.2,\n",
    "    'C': 0.5,\n",
    "    'D': 0.6\n",
    "}\n",
    "\n",
    "\n",
    "eta = 0.5\n",
    "learning_rate = 0.00014\n",
    "discount = 0.8\n",
    "H = 55\n",
    "k = 10\n",
    "\n",
    "#experts = ['match_the_longest', 'probability_match_05']#, 'probability_match_02', 'probability_match_08']\n",
    "experts = ['match_the_longest', 'edge_priority_match_reward', 'random_match']\n",
    "\n",
    "rewards = {exp : [] for exp in experts}\n",
    "models = {exp : None for exp in experts}\n",
    "\n",
    "queue_max = 5\n",
    "\n",
    "queues ={v: [] for v in verteces}\n",
    "\n",
    "experts_queues = {exp : {\n",
    "    'A': [],\n",
    "    'B': [],\n",
    "    'C': [],\n",
    "    'D': []\n",
    "} for exp in experts}"
   ]
  },
  {
   "cell_type": "markdown",
   "id": "8dc8c027-1b3f-4ecf-8edb-53896ab3ed0a",
   "metadata": {},
   "source": [
    "The diamond graph is stable for every greedy policy provided that the following statability condition is satisfied:\n",
    "\n",
    "$\\lambda_A < \\lambda_B + \\lambda_C + \\lambda_D$ <br>\n",
    "$\\lambda_D < \\lambda_C + \\lambda_A + \\lambda_B$ <br>\n",
    "$\\lambda_C + \\lambda_B < \\lambda_A + \\lambda_D$"
   ]
  },
  {
   "cell_type": "markdown",
   "id": "75733413-fa22-4a27-8cb0-b0c246d96ba3",
   "metadata": {
    "tags": []
   },
   "source": [
    "# Aggregation"
   ]
  },
  {
   "cell_type": "code",
   "execution_count": 3,
   "id": "9d7bebdc-9f38-4786-a180-c0177c1ab07f",
   "metadata": {},
   "outputs": [],
   "source": [
    "with open('Q/Q_start.pkl', \"rb\") as fp:\n",
    "    Q_start = pickle.load(fp)"
   ]
  },
  {
   "cell_type": "code",
   "execution_count": 4,
   "id": "6ae40a71-fb64-4ab3-a642-c3f559631f2d",
   "metadata": {},
   "outputs": [],
   "source": [
    "weights_dict = {}\n",
    "model_agg = Aggregation(graph, arrival_rates, experts, eta, queue_max)\n",
    "model = StochasticMatching(graph, arrival_rates, queue_max)\n",
    "\n",
    "state_space = list(itertools.product(np.array(range(queue_max + 1)), repeat=len(graph.keys())))\n",
    "num_states = len(state_space)\n",
    "n=0\n",
    "state_space_ind = {}\n",
    "for s in state_space:\n",
    "    state_space_ind[str(n)] = s\n",
    "    n += 1 \n",
    "    \n",
    "state_space_dict = {s : 0 for s in state_space}\n",
    "len_updates = 1\n",
    "res = int(len_updates / 100)\n",
    "num_repeat_est = 10\n",
    "\n",
    "queues_lenght = {v: [] for v in verteces}\n",
    "\n",
    "K = len(experts)\n",
    "weights_dict['-1'] = {state: np.array([1/K] * K) for state in state_space_ind.keys()}\n",
    "\n",
    "repeat_weights = 1\n",
    "learning_rate = 0.00014\n"
   ]
  },
  {
   "cell_type": "code",
   "execution_count": 5,
   "id": "7a4e904d-d588-43cb-a2ed-a37313679f4d",
   "metadata": {},
   "outputs": [
    {
     "name": "stderr",
     "output_type": "stream",
     "text": [
      " 50%|██████████████████████                      | 1/2 [00:00<00:00, 137.17it/s]"
     ]
    },
    {
     "name": "stdout",
     "output_type": "stream",
     "text": [
      "(0, 0, 0, 0) (0, 0, 0, 1) 0\n",
      "(0, 0, 0, 1) (0, 0, 0, 2) 0\n",
      "(0, 0, 0, 2) (1, 0, 0, 2) 0\n",
      "(1, 0, 0, 2) (1, 0, 0, 1) 50\n",
      "(1, 0, 0, 1) (1, 0, 0, 0) 50\n",
      "(1, 0, 0, 0) (2, 0, 0, 0) 0\n",
      "(2, 0, 0, 0) (2, 0, 1, 0) 0\n",
      "(2, 0, 1, 0) (1, 0, 0, 1) 10\n",
      "(1, 0, 0, 1) (1, 0, 0, 0) 50\n",
      "(1, 0, 0, 0) (1, 0, 1, 0) 0\n",
      "(1, 0, 1, 0) (0, 0, 1, 0) 10\n",
      "(0, 0, 1, 0) (0, 0, 2, 0) 0\n",
      "(0, 0, 2, 0) (0, 0, 2, 1) 0\n",
      "(0, 0, 2, 1) (0, 1, 1, 0) 1\n",
      "(0, 1, 1, 0) (1, 1, 1, 0) 0\n",
      "(1, 1, 1, 0) (0, 0, 1, 1) 200\n",
      "(0, 0, 1, 1) (0, 1, 0, 0) 1\n",
      "(0, 1, 0, 0) (1, 1, 0, 0) 0\n",
      "(1, 1, 0, 0) (0, 0, 0, 1) 200\n",
      "(0, 0, 0, 1) (1, 0, 0, 1) 0\n",
      "(1, 0, 0, 1) (1, 0, 0, 0) 50\n",
      "(1, 0, 0, 0) (1, 0, 1, 0) 0\n",
      "(1, 0, 1, 0) (0, 0, 1, 0) 10\n",
      "(0, 0, 1, 0) (0, 0, 1, 1) 0\n",
      "(0, 0, 1, 1) (1, 0, 0, 0) 1\n",
      "(1, 0, 0, 0) (2, 0, 0, 0) 0\n",
      "(2, 0, 0, 0) (3, 0, 0, 0) 0\n",
      "(3, 0, 0, 0) (3, 0, 1, 0) 0\n",
      "(3, 0, 1, 0) (2, 1, 0, 0) 10\n",
      "(2, 1, 0, 0) (2, 0, 0, 0) 200\n",
      "(2, 0, 0, 0) (2, 0, 1, 0) 0\n",
      "(2, 0, 1, 0) (2, 0, 0, 0) 10\n",
      "(2, 0, 0, 0) (2, 0, 0, 1) 0\n",
      "(2, 0, 0, 1) (1, 0, 1, 0) 50\n",
      "(1, 0, 1, 0) (1, 0, 0, 0) 10\n",
      "(1, 0, 0, 0) (2, 0, 0, 0) 0\n",
      "(2, 0, 0, 0) (2, 0, 1, 0) 0\n",
      "(2, 0, 1, 0) (1, 0, 0, 1) 10\n",
      "(1, 0, 0, 1) (0, 0, 1, 0) 50\n",
      "(0, 0, 1, 0) (0, 1, 1, 0) 0\n",
      "(0, 1, 1, 0) (1, 1, 1, 0) 0\n",
      "(1, 1, 1, 0) (1, 0, 1, 0) 200\n",
      "(1, 0, 1, 0) (0, 1, 0, 0) 10\n",
      "(0, 1, 0, 0) (0, 1, 1, 0) 0\n",
      "(0, 1, 1, 0) (0, 1, 1, 1) 0\n",
      "(0, 1, 1, 1) (1, 0, 1, 0) 20\n",
      "(1, 0, 1, 0) (0, 0, 1, 0) 10\n",
      "(0, 0, 1, 0) (0, 0, 1, 1) 0\n",
      "(0, 0, 1, 1) (0, 0, 0, 1) 1\n",
      "(0, 0, 0, 1) (0, 0, 1, 1) 0\n"
     ]
    },
    {
     "name": "stderr",
     "output_type": "stream",
     "text": [
      "\n"
     ]
    },
    {
     "ename": "ZeroDivisionError",
     "evalue": "integer division or modulo by zero",
     "output_type": "error",
     "traceback": [
      "\u001b[0;31m---------------------------------------------------------------------------\u001b[0m",
      "\u001b[0;31mZeroDivisionError\u001b[0m                         Traceback (most recent call last)",
      "\u001b[0;32m<timed exec>\u001b[0m in \u001b[0;36m<module>\u001b[0;34m\u001b[0m\n",
      "\u001b[0;31mZeroDivisionError\u001b[0m: integer division or modulo by zero"
     ]
    }
   ],
   "source": [
    "%%time \n",
    "random.seed(6)\n",
    "for n in range(repeat_weights):\n",
    "    weights_dict = {}\n",
    "    model_agg = Aggregation(graph, arrival_rates, experts, eta, queue_max, Q_start)\n",
    "    model = StochasticMatching(graph, arrival_rates, queue_max)\n",
    "    weights_dict['-1'] =  np.ones([num_states, K]) / K \n",
    "    time_expw = []\n",
    "    time_tot = 0\n",
    "    for i in tqdm(range(len_updates + 1)):\n",
    "        if (i <= 200) and (i%10 == 0):\n",
    "            start_time = time.time()\n",
    "            weights = model_agg.aggregation_update_exp(discount, learning_rate, model, H, k, num_repeat_est)\n",
    "            end_time = time.time()\n",
    "            time_tot += end_time - start_time\n",
    "            time_expw.append(time_tot)\n",
    "            weights_dict[str(i)] = weights.copy()\n",
    "            random_state = state_space[random.randint(0, len(state_space)-1)]\n",
    "            #if i%50 == 0:\n",
    "            #    print('update --> ', n, i)\n",
    "        elif (i%res == 0) and (i>200):\n",
    "            start_time = time.time()\n",
    "            weights = model_agg.aggregation_update_exp(discount, learning_rate, model, H, k, num_repeat_est)\n",
    "            end_time = time.time()\n",
    "            time_tot += end_time - start_time\n",
    "            time_expw.append(time_tot)\n",
    "            weights_dict[str(i)] = weights.copy()\n",
    "            random_state = state_space[random.randint(0, len(state_space)-1)]\n",
    "            # if i%(res*5)== 0:\n",
    "                #print('update --> ', n, i)\n",
    "                #for v, q in zip(model.queue.keys(), np.array(range(len(random_state)))):\n",
    "                #    model.queue[v] = random_state[q]\n",
    "            #state_space_dict[tuple(model.queue.values())] += 1\n",
    "        else:\n",
    "            start_time = time.time()\n",
    "            weights = model_agg.aggregation_update_exp(discount, learning_rate, model, H, k, num_repeat_est)\n",
    "            end_time = time.time()\n",
    "            time_tot += end_time - start_time\n",
    "    # with open('weights/weights_expw_' + str(n) + '.pkl', 'wb') as output:\n",
    "    #     pickle.dump(weights_dict, output)\n",
    "    # with open('weights/time_expw_' + str(n) + '.pkl', 'wb') as output:\n",
    "    #     pickle.dump(time_expw, output)        "
   ]
  }
 ],
 "metadata": {
  "kernelspec": {
   "display_name": "Python 3 (ipykernel)",
   "language": "python",
   "name": "python3"
  },
  "language_info": {
   "codemirror_mode": {
    "name": "ipython",
    "version": 3
   },
   "file_extension": ".py",
   "mimetype": "text/x-python",
   "name": "python",
   "nbconvert_exporter": "python",
   "pygments_lexer": "ipython3",
   "version": "3.9.13"
  }
 },
 "nbformat": 4,
 "nbformat_minor": 5
}
