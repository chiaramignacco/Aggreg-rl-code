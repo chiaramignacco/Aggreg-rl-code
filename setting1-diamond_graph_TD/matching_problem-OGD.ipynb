{
 "cells": [
  {
   "cell_type": "code",
   "execution_count": 1,
   "id": "a1f3f280-dc68-4788-b5cc-879f82abf9b9",
   "metadata": {},
   "outputs": [],
   "source": [
    "import matplotlib.pyplot as plt\n",
    "import numpy as np\n",
    "import itertools\n",
    "import random \n",
    "import pickle\n",
    "from matplotlib.pyplot import figure\n",
    "import time\n",
    "\n",
    "from stoc_match import StochasticMatching, Aggregation"
   ]
  },
  {
   "cell_type": "code",
   "execution_count": 2,
   "id": "27b146dc-5f88-4b02-8d98-10be4f6e413a",
   "metadata": {},
   "outputs": [],
   "source": [
    "verteces = ['A', 'B', 'C', 'D']\n",
    "\n",
    "\n",
    "\n",
    "graph = {\n",
    "    'A': [('B', 200), ('C', 10), ('D', 50)],\n",
    "    'B': [('A', 200), ('D', 20)],\n",
    "    'C': [('A', 10), ('D', 1)],\n",
    "    'D': [('A', 50), ('B', 20), ('C', 1)]\n",
    "}\n",
    "\n",
    "arrival_rates = {\n",
    "    'A': 0.9,\n",
    "    'B': 0.2,\n",
    "    'C': 0.5,\n",
    "    'D': 0.6\n",
    "}\n",
    "\n",
    "\n",
    "eta = 0.5\n",
    "discount = 0.8\n",
    "H = 55\n",
    "k = 10\n",
    "\n",
    "#experts = ['match_the_longest', 'probability_match_05']#, 'probability_match_02', 'probability_match_08']\n",
    "experts = ['match_the_longest', 'edge_priority_match_reward', 'random_match']\n",
    "\n",
    "rewards = {exp : [] for exp in experts}\n",
    "models = {exp : None for exp in experts}\n",
    "\n",
    "queue_max = 5\n",
    "\n",
    "queues ={v: [] for v in verteces}\n",
    "\n",
    "experts_queues = {exp : {\n",
    "    'A': [],\n",
    "    'B': [],\n",
    "    'C': [],\n",
    "    'D': []\n",
    "} for exp in experts}"
   ]
  },
  {
   "cell_type": "markdown",
   "id": "8dc8c027-1b3f-4ecf-8edb-53896ab3ed0a",
   "metadata": {},
   "source": [
    "The diamond graph is stable for every greedy policy provided that the following statability condition is satisfied:\n",
    "\n",
    "$\\lambda_A < \\lambda_B + \\lambda_C + \\lambda_D$ <br>\n",
    "$\\lambda_D < \\lambda_C + \\lambda_A + \\lambda_B$ <br>\n",
    "$\\lambda_C + \\lambda_B < \\lambda_A + \\lambda_D$"
   ]
  },
  {
   "cell_type": "markdown",
   "id": "75733413-fa22-4a27-8cb0-b0c246d96ba3",
   "metadata": {
    "tags": []
   },
   "source": [
    "# Aggregation"
   ]
  },
  {
   "cell_type": "code",
   "execution_count": 3,
   "id": "6ae40a71-fb64-4ab3-a642-c3f559631f2d",
   "metadata": {},
   "outputs": [],
   "source": [
    "weights_dict = {}\n",
    "model_agg = Aggregation(graph, arrival_rates, experts, eta, queue_max)\n",
    "model = StochasticMatching(graph, arrival_rates, queue_max)\n",
    "\n",
    "state_space = list(itertools.product(np.array(range(queue_max + 1)), repeat=len(graph.keys())))\n",
    "\n",
    "n=0\n",
    "state_space_ind = {}\n",
    "for s in state_space:\n",
    "    state_space_ind[str(n)] = s\n",
    "    n += 1 \n",
    "    \n",
    "state_space_dict = {s : 0 for s in state_space}\n",
    "len_updates = 5000\n",
    "res = int(len_updates / 100)\n",
    "num_repeat_est = 1\n",
    "\n",
    "queues_lenght = {v: [] for v in verteces}\n",
    "\n",
    "K = len(experts)\n",
    "weights_dict['-1'] = {state: np.array([1/K] * K) for state in state_space_ind.keys()}\n",
    "\n",
    "#learning_rate_start = 0.1\n",
    "#learning_rate_end = 0\n",
    "#delta_l_rate = (learning_rate_start - learning_rate_end) / len_updates\n",
    "\n",
    "repeat_weights = 10\n",
    "M = 210\n",
    "lr = 0.004\n"
   ]
  },
  {
   "cell_type": "code",
   "execution_count": null,
   "id": "7a4e904d-d588-43cb-a2ed-a37313679f4d",
   "metadata": {},
   "outputs": [
    {
     "name": "stdout",
     "output_type": "stream",
     "text": [
      "update -->  10 0\n",
      "update -->  10 50\n",
      "update -->  10 100\n",
      "update -->  10 150\n",
      "update -->  10 200\n"
     ]
    }
   ],
   "source": [
    "%%time\n",
    "random.seed(51)\n",
    "for n in range(10, 20):\n",
    "    weights_dict = {}\n",
    "    model_agg = Aggregation(graph, arrival_rates, experts, eta, queue_max)\n",
    "    model = StochasticMatching(graph, arrival_rates, queue_max)\n",
    "    weights_dict['-1'] = {state: np.array([1/K] * K) for state in state_space_ind.keys()}\n",
    "    time_OGD = []\n",
    "    time_tot = 0\n",
    "    for i in range(len_updates + 1):\n",
    "        learning_rate = lr / np.sqrt(i + 1)\n",
    "        if (i <= 200) and (i%10 == 0):\n",
    "            start_time = time.time()\n",
    "            weights = model_agg.aggregation_update_OGD(discount, learning_rate, model, H, k, num_repeat_est)\n",
    "            end_time = time.time()\n",
    "            time_tot += end_time - start_time\n",
    "            time_OGD.append(time_tot)\n",
    "            weights_state_ind = {key : value for key, value in zip(state_space_ind.keys(), weights.values())}\n",
    "            weights_dict[str(i)] = weights_state_ind.copy()\n",
    "            if i % 50 == 0:\n",
    "                print('update --> ', n, i)\n",
    "        elif (i % res == 0) and (i > 200):\n",
    "            start_time = time.time()\n",
    "            weights = model_agg.aggregation_update_OGD(discount, learning_rate, model, H, k, num_repeat_est)\n",
    "            end_time = time.time()\n",
    "            time_tot += end_time - start_time\n",
    "            time_OGD.append(time_tot)\n",
    "            weights_state_ind = {key : value for key, value in zip(state_space_ind.keys(), weights.values())}\n",
    "            weights_dict[str(i)] = weights_state_ind.copy()\n",
    "            random_state = state_space[random.randint(0, len(state_space)-1)]\n",
    "            if i % (res*5) == 0:\n",
    "                print('update --> ', n, i)\n",
    "        else:\n",
    "            start_time = time.time()\n",
    "            weights = model_agg.aggregation_update_exp(discount, learning_rate, model, H, k, num_repeat_est)\n",
    "            end_time = time.time()\n",
    "            time_tot += end_time - start_time          \n",
    "        \n",
    "    with open('weights_time1/weights_OGD_' + str(n) + '.pkl', 'wb') as output:\n",
    "        pickle.dump(weights_dict, output)\n",
    "    with open('weights_time1/time_OGD_' + str(n) + '.pkl', 'wb') as output:\n",
    "        pickle.dump(time_OGD, output)"
   ]
  },
  {
   "cell_type": "code",
   "execution_count": null,
   "id": "2c332076-f7a8-45bd-9097-e9413a64f8bf",
   "metadata": {},
   "outputs": [],
   "source": []
  },
  {
   "cell_type": "code",
   "execution_count": null,
   "id": "af471b89-ad0b-48bd-bb40-c4f7728dd0eb",
   "metadata": {},
   "outputs": [],
   "source": []
  }
 ],
 "metadata": {
  "kernelspec": {
   "display_name": "Python 3 (ipykernel)",
   "language": "python",
   "name": "python3"
  },
  "language_info": {
   "codemirror_mode": {
    "name": "ipython",
    "version": 3
   },
   "file_extension": ".py",
   "mimetype": "text/x-python",
   "name": "python",
   "nbconvert_exporter": "python",
   "pygments_lexer": "ipython3",
   "version": "3.9.13"
  }
 },
 "nbformat": 4,
 "nbformat_minor": 5
}
