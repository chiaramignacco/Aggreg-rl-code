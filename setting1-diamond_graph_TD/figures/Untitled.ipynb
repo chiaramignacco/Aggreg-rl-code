{
 "cells": [
  {
   "cell_type": "code",
   "execution_count": 6,
   "id": "92a57053-35e8-4686-8d85-d06bd90f17a8",
   "metadata": {},
   "outputs": [],
   "source": [
    "import numpy as np\n",
    "import itertools"
   ]
  },
  {
   "cell_type": "code",
   "execution_count": 17,
   "id": "5f6f65bd-1917-4841-82d5-65104c2df19d",
   "metadata": {},
   "outputs": [],
   "source": [
    "verteces = ['A', 'B', 'C', 'D']\n",
    "\n",
    "graph = {\n",
    "    'A': [('B', 5), ('C', 5), ('D', 5)],\n",
    "    'B': [('A', 5), ('D', 5)],\n",
    "    'C': [('A', 5), ('D', 5)],\n",
    "    'D': [('A', 5), ('B', 5), ('C', 5)]\n",
    "}\n",
    "arrival_rates = {\n",
    "    'A': 0.6,\n",
    "    'B': 0.4,\n",
    "    'C': 0.4,\n",
    "    'D': 0.6\n",
    "}\n",
    "\n",
    "experts = ['match_the_longest', 'probability_match_02']\n",
    "\n",
    "queue_max = 5\n",
    "state_space = list(itertools.product(np.array(range(queue_max + 1)), repeat=len(graph.keys())))\n",
    "state_space_dict = {s : 0 for s in state_space}\n",
    "p = 3\n",
    "#weights = \n",
    "\n",
    "num_states = len(state_space)\n",
    "num_actions = len(experts)\n",
    "\n",
    "P = np.zeros((num_states, num_actions, num_states))\n",
    "r = np.zeros(num_states)"
   ]
  },
  {
   "cell_type": "code",
   "execution_count": 40,
   "id": "51ae947b-bc36-4683-85a5-5acaf0a0c266",
   "metadata": {},
   "outputs": [
    {
     "name": "stdout",
     "output_type": "stream",
     "text": [
      "0\n"
     ]
    },
    {
     "ename": "TypeError",
     "evalue": "iteration over a 0-d array",
     "output_type": "error",
     "traceback": [
      "\u001b[0;31m---------------------------------------------------------------------------\u001b[0m",
      "\u001b[0;31mTypeError\u001b[0m                                 Traceback (most recent call last)",
      "\u001b[0;32m/var/folders/4j/r63lprw527l_pqy1b058k_kw0000gp/T/ipykernel_46720/4108093758.py\u001b[0m in \u001b[0;36m<module>\u001b[0;34m\u001b[0m\n\u001b[1;32m      1\u001b[0m \u001b[0;32mfor\u001b[0m \u001b[0mstate\u001b[0m \u001b[0;32min\u001b[0m \u001b[0mrange\u001b[0m\u001b[0;34m(\u001b[0m\u001b[0mnum_states\u001b[0m\u001b[0;34m)\u001b[0m\u001b[0;34m:\u001b[0m\u001b[0;34m\u001b[0m\u001b[0;34m\u001b[0m\u001b[0m\n\u001b[1;32m      2\u001b[0m     \u001b[0mprint\u001b[0m\u001b[0;34m(\u001b[0m\u001b[0mstate\u001b[0m\u001b[0;34m)\u001b[0m\u001b[0;34m\u001b[0m\u001b[0;34m\u001b[0m\u001b[0m\n\u001b[0;32m----> 3\u001b[0;31m     \u001b[0;32mif\u001b[0m \u001b[0msum\u001b[0m\u001b[0;34m(\u001b[0m\u001b[0mnp\u001b[0m\u001b[0;34m.\u001b[0m\u001b[0marray\u001b[0m\u001b[0;34m(\u001b[0m\u001b[0mstate\u001b[0m\u001b[0;34m)\u001b[0m\u001b[0;34m)\u001b[0m \u001b[0;34m>\u001b[0m \u001b[0;36m1\u001b[0m\u001b[0;34m:\u001b[0m\u001b[0;34m\u001b[0m\u001b[0;34m\u001b[0m\u001b[0m\n\u001b[0m\u001b[1;32m      4\u001b[0m         \u001b[0mq1\u001b[0m \u001b[0;34m=\u001b[0m \u001b[0mnp\u001b[0m\u001b[0;34m.\u001b[0m\u001b[0margsort\u001b[0m\u001b[0;34m(\u001b[0m\u001b[0mstate_space\u001b[0m\u001b[0;34m[\u001b[0m\u001b[0mstate\u001b[0m\u001b[0;34m]\u001b[0m\u001b[0;34m)\u001b[0m\u001b[0;34m[\u001b[0m\u001b[0;34m-\u001b[0m\u001b[0;36m1\u001b[0m\u001b[0;34m]\u001b[0m\u001b[0;34m\u001b[0m\u001b[0;34m\u001b[0m\u001b[0m\n\u001b[1;32m      5\u001b[0m         \u001b[0mq2\u001b[0m \u001b[0;34m=\u001b[0m \u001b[0mnp\u001b[0m\u001b[0;34m.\u001b[0m\u001b[0margsort\u001b[0m\u001b[0;34m(\u001b[0m\u001b[0mstate_space\u001b[0m\u001b[0;34m[\u001b[0m\u001b[0mstata\u001b[0m\u001b[0;34m]\u001b[0m\u001b[0;34m)\u001b[0m\u001b[0;34m[\u001b[0m\u001b[0;34m-\u001b[0m\u001b[0;36m2\u001b[0m\u001b[0;34m]\u001b[0m\u001b[0;34m\u001b[0m\u001b[0;34m\u001b[0m\u001b[0m\n",
      "\u001b[0;31mTypeError\u001b[0m: iteration over a 0-d array"
     ]
    }
   ],
   "source": [
    "for state in range(num_states):\n",
    "    print(state)\n",
    "    if sum(np.array(state_space[state])) > 1:\n",
    "        q1 = np.argsort(state_space[state])[-1]\n",
    "        q2 = np.argsort(state_space[state])[-2]\n",
    "        new_state = np.array(state)\n",
    "        new_state[q1] -= 1 \n",
    "        new_state[q2] -= 1 \n",
    "        new_state = tuple(new_state)\n",
    "        \n",
    "        P[state, new_state] = 1\n",
    "        r[state] = +5\n",
    "        \n",
    "            "
   ]
  },
  {
   "cell_type": "code",
   "execution_count": 35,
   "id": "a92fdcd3-84e3-4cb8-a5e4-ff758e2305e0",
   "metadata": {},
   "outputs": [],
   "source": [
    "x = np.array((3, 4, 5))\n",
    "x[0] -= 1\n",
    "np.argsort"
   ]
  },
  {
   "cell_type": "code",
   "execution_count": 33,
   "id": "b1df1b40-8268-45cb-8807-db96ac153aa0",
   "metadata": {},
   "outputs": [
    {
     "data": {
      "text/plain": [
       "array([2, 4, 5])"
      ]
     },
     "execution_count": 33,
     "metadata": {},
     "output_type": "execute_result"
    }
   ],
   "source": [
    "x"
   ]
  },
  {
   "cell_type": "code",
   "execution_count": null,
   "id": "3fc9cfe9-fd83-424a-bd48-8f4bb3e287f1",
   "metadata": {},
   "outputs": [],
   "source": []
  }
 ],
 "metadata": {
  "kernelspec": {
   "display_name": "Python 3 (ipykernel)",
   "language": "python",
   "name": "python3"
  },
  "language_info": {
   "codemirror_mode": {
    "name": "ipython",
    "version": 3
   },
   "file_extension": ".py",
   "mimetype": "text/x-python",
   "name": "python",
   "nbconvert_exporter": "python",
   "pygments_lexer": "ipython3",
   "version": "3.9.13"
  }
 },
 "nbformat": 4,
 "nbformat_minor": 5
}
