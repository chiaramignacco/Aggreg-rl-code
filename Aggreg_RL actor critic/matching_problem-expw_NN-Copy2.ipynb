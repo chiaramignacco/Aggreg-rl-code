{
 "cells": [
  {
   "cell_type": "code",
   "execution_count": null,
   "id": "a1f3f280-dc68-4788-b5cc-879f82abf9b9",
   "metadata": {},
   "outputs": [],
   "source": [
    "%load_ext autoreload \n",
    "%autoreload 2\n",
    "\n",
    "from imports import *\n",
    "import queue_system as qs\n",
    "from queue_system import *\n",
    "import torch\n",
    "\n",
    "seed = random.seed(10)\n",
    "seed_np = np.random.seed(10)"
   ]
  },
  {
   "cell_type": "code",
   "execution_count": null,
   "id": "52e605ef",
   "metadata": {},
   "outputs": [],
   "source": [
    "print(\"cuda.is_available =\", torch.cuda.is_available())\n",
    "print(\"device_count =\", torch.cuda.device_count())\n",
    "idgpu = torch.cuda.current_device()\n",
    "print(\"current_device =\", idgpu)\n",
    "print(\"device_name =\", torch.cuda.get_device_name(idgpu))\n",
    "print(\"version.cuda =\", torch.version.cuda)"
   ]
  },
  {
   "cell_type": "markdown",
   "id": "75733413-fa22-4a27-8cb0-b0c246d96ba3",
   "metadata": {
    "tags": []
   },
   "source": [
    "# Aggregation"
   ]
  },
  {
   "cell_type": "code",
   "execution_count": 2,
   "id": "9d7bebdc-9f38-4786-a180-c0177c1ab07f",
   "metadata": {},
   "outputs": [],
   "source": [
    "with open('Q/Q_start.pkl', \"rb\") as fp:\n",
    "    Q_start = pickle.load(fp)"
   ]
  },
  {
   "cell_type": "code",
   "execution_count": 3,
   "id": "6ae40a71-fb64-4ab3-a642-c3f559631f2d",
   "metadata": {},
   "outputs": [],
   "source": [
    "weights_dict = {}\n",
    "# model_agg = Aggregation(graph, arrival_rates, experts, eta, queue_max)\n",
    "# model = StochasticMatching(graph, arrival_rates, queue_max)\n",
    "\n",
    "len_updates = 100\n",
    "res = int(len_updates / 50)      \n",
    "\n",
    "\n",
    "weights_dict['-1'] = {state: np.array([1/K] * K) for state in state_space_ind.keys()}\n",
    "\n",
    "repeat_weights = 10\n",
    "learning_rate = 0.1\n",
    "num_episodes = 10\n",
    "lr = 0.1"
   ]
  },
  {
   "cell_type": "code",
   "execution_count": 4,
   "id": "7a4e904d-d588-43cb-a2ed-a37313679f4d",
   "metadata": {
    "tags": []
   },
   "outputs": [
    {
     "name": "stderr",
     "output_type": "stream",
     "text": [
      "100%|███████████████████████████████████████| 101/101 [1:19:12<00:00, 47.06s/it]\n",
      "100%|███████████████████████████████████████| 101/101 [1:16:44<00:00, 45.59s/it]\n",
      "100%|███████████████████████████████████████| 101/101 [1:17:05<00:00, 45.80s/it]\n",
      "100%|███████████████████████████████████████| 101/101 [1:17:08<00:00, 45.83s/it]\n",
      "100%|███████████████████████████████████████| 101/101 [1:16:55<00:00, 45.70s/it]\n",
      "100%|███████████████████████████████████████| 101/101 [1:17:00<00:00, 45.75s/it]\n",
      "100%|███████████████████████████████████████| 101/101 [1:17:12<00:00, 45.86s/it]\n",
      "100%|███████████████████████████████████████| 101/101 [1:17:04<00:00, 45.79s/it]\n",
      "100%|███████████████████████████████████████| 101/101 [1:17:08<00:00, 45.83s/it]\n",
      "100%|███████████████████████████████████████| 101/101 [1:21:47<00:00, 48.59s/it]"
     ]
    },
    {
     "name": "stdout",
     "output_type": "stream",
     "text": [
      "CPU times: user 19h 37min 57s, sys: 1d 20h 1min 50s, total: 2d 15h 39min 48s\n",
      "Wall time: 12h 57min 21s\n"
     ]
    },
    {
     "name": "stderr",
     "output_type": "stream",
     "text": [
      "\n"
     ]
    }
   ],
   "source": [
    "%%time \n",
    "random.seed(6)\n",
    "np.random.seed(6)\n",
    "for n in range(repeat_weights):\n",
    "    weights_dict = {}\n",
    "    model_agg = Aggregation(graph, arrival_rates, experts, eta, queue_max, lambda_l2=0, lambda_l1=0, lr=1e-3,  Q=Q_start)\n",
    "    model = StochasticMatching(graph, arrival_rates, queue_max)\n",
    "    weights_dict['-1'] =  np.ones([num_states, K]) / K\n",
    "    lr = 0.8\n",
    "    \n",
    "    for i in tqdm(range(len_updates + 1)):\n",
    "        if (i <= 200) and (i%10 == 0):\n",
    "            weights = model_agg.train_actor_critic(num_episodes, lr)\n",
    "            weights_dict[str(i)] = copy.deepcopy(weights) #.copy()\n",
    "        else:\n",
    "            weights = model_agg.train_actor_critic(num_episodes, lr)\n",
    "            \n",
    "        lr = lr * 0.9\n",
    "    with open('weights/weights_actor_critic1_' + str(n) + '.pkl', 'wb') as output:\n",
    "        pickle.dump(weights_dict, output)       \n",
    "        \n",
    "        \n",
    "#stoch_match 2 scheduler step_size=2 ms 2 no reg lr 1e-3 PROVA SOLO POLICY NN"
   ]
  }
 ],
 "metadata": {
  "kernelspec": {
   "display_name": "Python 3 (ipykernel)",
   "language": "python",
   "name": "python3"
  },
  "language_info": {
   "codemirror_mode": {
    "name": "ipython",
    "version": 3
   },
   "file_extension": ".py",
   "mimetype": "text/x-python",
   "name": "python",
   "nbconvert_exporter": "python",
   "pygments_lexer": "ipython3",
   "version": "3.9.13"
  }
 },
 "nbformat": 4,
 "nbformat_minor": 5
}
