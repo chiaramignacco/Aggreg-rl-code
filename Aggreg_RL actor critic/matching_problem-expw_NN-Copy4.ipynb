{
 "cells": [
  {
   "cell_type": "code",
   "execution_count": 1,
   "id": "a1f3f280-dc68-4788-b5cc-879f82abf9b9",
   "metadata": {},
   "outputs": [],
   "source": [
    "# %load_ext autoreload \n",
    "# %autoreload 2\n",
    "\n",
    "from imports import *\n",
    "import queue_system as qs\n",
    "from queue_system import *\n",
    "\n",
    "seed = random.seed(10)\n",
    "seed_np = np.random.seed(10)"
   ]
  },
  {
   "cell_type": "markdown",
   "id": "75733413-fa22-4a27-8cb0-b0c246d96ba3",
   "metadata": {
    "tags": []
   },
   "source": [
    "# Aggregation"
   ]
  },
  {
   "cell_type": "code",
   "execution_count": 2,
   "id": "9d7bebdc-9f38-4786-a180-c0177c1ab07f",
   "metadata": {},
   "outputs": [],
   "source": [
    "with open('Q/Q_start.pkl', \"rb\") as fp:\n",
    "    Q_start = pickle.load(fp)"
   ]
  },
  {
   "cell_type": "code",
   "execution_count": 3,
   "id": "6ae40a71-fb64-4ab3-a642-c3f559631f2d",
   "metadata": {},
   "outputs": [],
   "source": [
    "weights_dict = {}\n",
    "# model_agg = Aggregation(graph, arrival_rates, experts, eta, queue_max)\n",
    "# model = StochasticMatching(graph, arrival_rates, queue_max)\n",
    "\n",
    "len_updates = 100\n",
    "res = int(len_updates / 50)      \n",
    "\n",
    "\n",
    "weights_dict['-1'] = {state: np.array([1/K] * K) for state in state_space_ind.keys()}\n",
    "\n",
    "repeat_weights = 10\n",
    "learning_rate = 0.1\n",
    "num_episodes = 10"
   ]
  },
  {
   "cell_type": "code",
   "execution_count": 4,
   "id": "7a4e904d-d588-43cb-a2ed-a37313679f4d",
   "metadata": {
    "tags": []
   },
   "outputs": [
    {
     "name": "stderr",
     "output_type": "stream",
     "text": [
      "100%|██████████████████████████████████████| 101/101 [3:12:17<00:00, 114.23s/it]\n",
      "100%|██████████████████████████████████████| 101/101 [3:01:35<00:00, 107.88s/it]\n",
      "100%|███████████████████████████████████████| 101/101 [2:03:45<00:00, 73.52s/it]\n",
      "100%|███████████████████████████████████████| 101/101 [1:42:35<00:00, 60.94s/it]\n",
      "100%|███████████████████████████████████████| 101/101 [1:45:04<00:00, 62.43s/it]\n",
      "100%|███████████████████████████████████████| 101/101 [1:33:54<00:00, 55.79s/it]\n",
      "100%|███████████████████████████████████████| 101/101 [1:22:48<00:00, 49.19s/it]\n",
      "100%|███████████████████████████████████████| 101/101 [1:15:48<00:00, 45.04s/it]\n",
      "100%|███████████████████████████████████████| 101/101 [1:15:49<00:00, 45.04s/it]\n",
      "100%|███████████████████████████████████████| 101/101 [1:15:41<00:00, 44.97s/it]"
     ]
    },
    {
     "name": "stdout",
     "output_type": "stream",
     "text": [
      "CPU times: user 19h 18min 16s, sys: 1d 5h 13min 59s, total: 2d 32min 15s\n",
      "Wall time: 18h 29min 21s\n"
     ]
    },
    {
     "name": "stderr",
     "output_type": "stream",
     "text": [
      "\n"
     ]
    }
   ],
   "source": [
    "%%time \n",
    "random.seed(6)\n",
    "np.random.seed(6)\n",
    "for n in range(repeat_weights):\n",
    "    weights_dict = {}\n",
    "    model_agg = Aggregation(graph, arrival_rates, experts, eta, queue_max, lambda_l2=0, lambda_l1=0, lr=1e-3, Q=Q_start)\n",
    "    model = StochasticMatching(graph, arrival_rates, queue_max)\n",
    "    weights_dict['-1'] =  np.ones([num_states, K]) / K\n",
    "    \n",
    "    epsilon_start = 0.3\n",
    "    lr = 2\n",
    "    \n",
    "    for i in tqdm(range(len_updates + 1)):\n",
    "        if (i <= 200) and (i%10 == 0):\n",
    "            weights = model_agg.train_actor_critic(num_episodes, lr, epsilon_start)\n",
    "            weights_dict[str(i)] = copy.deepcopy(weights) #.copy()\n",
    "            random_state = state_space[random.randint(0, len(state_space)-1)]\n",
    "        else:\n",
    "            weights = model_agg.train_actor_critic(num_episodes, lr, epsilon_start)\n",
    "            \n",
    "        lr = lr * 0.8\n",
    "            \n",
    "    with open('weights/weights_actor_critic3_' + str(n) + '.pkl', 'wb') as output:\n",
    "        pickle.dump(weights_dict, output) \n",
    "        \n",
    "## stoch match 3 PROVA ENTRAMBI KL pol pot 15 calls instead of 25"
   ]
  }
 ],
 "metadata": {
  "kernelspec": {
   "display_name": "Python 3 (ipykernel)",
   "language": "python",
   "name": "python3"
  },
  "language_info": {
   "codemirror_mode": {
    "name": "ipython",
    "version": 3
   },
   "file_extension": ".py",
   "mimetype": "text/x-python",
   "name": "python",
   "nbconvert_exporter": "python",
   "pygments_lexer": "ipython3",
   "version": "3.9.13"
  }
 },
 "nbformat": 4,
 "nbformat_minor": 5
}
