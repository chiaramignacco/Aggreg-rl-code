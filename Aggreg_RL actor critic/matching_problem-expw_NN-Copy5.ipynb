{
 "cells": [
  {
   "cell_type": "code",
   "execution_count": 1,
   "id": "a1f3f280-dc68-4788-b5cc-879f82abf9b9",
   "metadata": {},
   "outputs": [],
   "source": [
    "# %load_ext autoreload \n",
    "# %autoreload 2\n",
    "\n",
    "from imports import *\n",
    "import queue_system as qs\n",
    "from queue_system import *\n",
    "\n",
    "seed = random.seed(10)\n",
    "seed_np = np.random.seed(10)"
   ]
  },
  {
   "cell_type": "markdown",
   "id": "75733413-fa22-4a27-8cb0-b0c246d96ba3",
   "metadata": {
    "tags": []
   },
   "source": [
    "# Aggregation"
   ]
  },
  {
   "cell_type": "code",
   "execution_count": 2,
   "id": "9d7bebdc-9f38-4786-a180-c0177c1ab07f",
   "metadata": {},
   "outputs": [],
   "source": [
    "with open('Q/Q_start.pkl', \"rb\") as fp:\n",
    "    Q_start = pickle.load(fp)"
   ]
  },
  {
   "cell_type": "code",
   "execution_count": 3,
   "id": "6ae40a71-fb64-4ab3-a642-c3f559631f2d",
   "metadata": {},
   "outputs": [],
   "source": [
    "weights_dict = {}\n",
    "# model_agg = Aggregation(graph, arrival_rates, experts, eta, queue_max)\n",
    "# model = StochasticMatching(graph, arrival_rates, queue_max)\n",
    "\n",
    "len_updates = 100\n",
    "res = int(len_updates / 50)      \n",
    "\n",
    "\n",
    "weights_dict['-1'] = {state: np.array([1/K] * K) for state in state_space_ind.keys()}\n",
    "\n",
    "repeat_weights = 10\n",
    "p = 4\n",
    "num_episodes = 5"
   ]
  },
  {
   "cell_type": "code",
   "execution_count": 4,
   "id": "7a4e904d-d588-43cb-a2ed-a37313679f4d",
   "metadata": {
    "tags": []
   },
   "outputs": [
    {
     "name": "stderr",
     "output_type": "stream",
     "text": [
      "100%|█████████████████████████████████████████| 101/101 [32:05<00:00, 19.07s/it]\n",
      "100%|█████████████████████████████████████████| 101/101 [52:13<00:00, 31.03s/it]\n",
      "100%|█████████████████████████████████████████| 101/101 [47:19<00:00, 28.11s/it]\n",
      "100%|█████████████████████████████████████████| 101/101 [46:04<00:00, 27.37s/it]\n",
      "100%|█████████████████████████████████████████| 101/101 [49:06<00:00, 29.18s/it]\n",
      "100%|█████████████████████████████████████████| 101/101 [46:00<00:00, 27.33s/it]\n",
      "100%|█████████████████████████████████████████| 101/101 [46:25<00:00, 27.58s/it]\n",
      "100%|█████████████████████████████████████████| 101/101 [45:45<00:00, 27.18s/it]\n",
      "100%|█████████████████████████████████████████| 101/101 [44:52<00:00, 26.66s/it]\n",
      "100%|█████████████████████████████████████████| 101/101 [42:29<00:00, 25.25s/it]"
     ]
    },
    {
     "name": "stdout",
     "output_type": "stream",
     "text": [
      "CPU times: user 5h 37min 39s, sys: 5h 54min 41s, total: 11h 32min 20s\n",
      "Wall time: 7h 32min 23s\n"
     ]
    },
    {
     "name": "stderr",
     "output_type": "stream",
     "text": [
      "\n"
     ]
    }
   ],
   "source": [
    "%%time \n",
    "random.seed(6)\n",
    "np.random.seed(6)\n",
    "for n in range(repeat_weights):\n",
    "    weights_dict = {}\n",
    "    model_agg = Aggregation(graph, arrival_rates, experts, eta, queue_max, lambda_l2=0, lambda_l1=1e-5, lr=1e-3,  Q=Q_start)\n",
    "    model = StochasticMatching(graph, arrival_rates, queue_max)\n",
    "    weights_dict['-1'] =  np.ones([num_states, K]) / K\n",
    "    \n",
    "    epsilon_start = 0.3\n",
    "    \n",
    "    for i in tqdm(range(len_updates + 1)):\n",
    "        if (i <= 200) and (i%10 == 0):\n",
    "            weights = model_agg.aggregation_update_pol_potNN(discount, p)\n",
    "            weights_dict[str(i)] = copy.deepcopy(weights)\n",
    "        else:\n",
    "            weights = model_agg.aggregation_update_pol_potNN(discount, p)\n",
    "            \n",
    "        # epsilon_start = epsilon\n",
    "            \n",
    "    with open('weights/weights_actor_critic8_' + str(n) + '.pkl', 'wb') as output:\n",
    "        pickle.dump(weights_dict, output)       \n",
    "        \n",
    "        \n",
    "#stoch_match 3 PROVA SOLO ADVANTAGE NN"
   ]
  }
 ],
 "metadata": {
  "kernelspec": {
   "display_name": "Python 3 (ipykernel)",
   "language": "python",
   "name": "python3"
  },
  "language_info": {
   "codemirror_mode": {
    "name": "ipython",
    "version": 3
   },
   "file_extension": ".py",
   "mimetype": "text/x-python",
   "name": "python",
   "nbconvert_exporter": "python",
   "pygments_lexer": "ipython3",
   "version": "3.9.13"
  }
 },
 "nbformat": 4,
 "nbformat_minor": 5
}
