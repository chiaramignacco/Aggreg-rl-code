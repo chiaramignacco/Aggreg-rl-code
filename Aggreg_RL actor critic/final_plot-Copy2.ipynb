{
 "cells": [
  {
   "cell_type": "code",
   "execution_count": 1,
   "id": "8fee8bba-049f-4281-b450-f7620e30f36c",
   "metadata": {},
   "outputs": [
    {
     "name": "stdout",
     "output_type": "stream",
     "text": [
      "Dictionary representation:\n",
      "0: [(4, 500.0), (5, 200.0), (6, 50.0), (9, 50.0), (7, 500.0), (13, 500.0), (15, 50.0), (12, 50.0), (10, 500.0), (11, 200.0), (8, 200.0), (14, 200.0)]\n",
      "1: [(7, 500.0), (9, 50.0), (13, 500.0), (15, 50.0), (8, 200.0), (14, 200.0)]\n",
      "2: [(10, 500.0), (12, 50.0), (13, 500.0), (15, 50.0), (11, 200.0), (14, 200.0)]\n",
      "3: [(13, 500.0), (15, 50.0), (14, 200.0)]\n",
      "4: [(0, 500.0)]\n",
      "5: [(0, 200.0)]\n",
      "6: [(0, 50.0)]\n",
      "7: [(1, 500.0), (0, 500.0)]\n",
      "8: [(1, 200.0), (0, 200.0)]\n",
      "9: [(1, 50.0), (0, 50.0)]\n",
      "10: [(2, 500.0), (0, 500.0)]\n",
      "11: [(0, 200.0), (2, 200.0)]\n",
      "12: [(2, 50.0), (0, 50.0)]\n",
      "13: [(3, 500.0), (0, 500.0), (1, 500.0), (2, 500.0)]\n",
      "14: [(0, 200.0), (1, 200.0), (2, 200.0), (3, 200.0)]\n",
      "15: [(3, 50.0), (0, 50.0), (1, 50.0), (2, 50.0)]\n",
      "dict_keys(['[0, 4]', '[0, 5]', '[0, 6]', '[1, 7]', '[1, 9]', '[2, 10]', '[2, 12]', '[3, 13]', '[3, 15]', '[9, 0]', '[7, 0]', '[13, 0]', '[13, 1]', '[13, 2]', '[15, 0]', '[15, 1]', '[15, 2]', '[12, 0]', '[10, 0]', '[11, 0]', '[2, 11]', '[1, 8]', '[8, 0]', '[14, 0]', '[14, 1]', '[14, 2]', '[3, 14]'])\n"
     ]
    }
   ],
   "source": [
    "%load_ext autoreload \n",
    "%autoreload 2\n",
    "\n",
    "from imports2 import *\n",
    "import queue_system2 as qs\n",
    "from queue_system2 import *\n",
    "\n",
    "seed = random.seed(10)\n",
    "seed_np = np.random.seed(10)\n",
    "\n",
    "import torch"
   ]
  },
  {
   "cell_type": "markdown",
   "id": "38f2a226-8061-4450-b1ff-7ddf92dd1ffd",
   "metadata": {},
   "source": [
    "## Import values"
   ]
  },
  {
   "cell_type": "code",
   "execution_count": 2,
   "id": "1d70f990-0bd9-4978-9883-cb12fca8e500",
   "metadata": {},
   "outputs": [],
   "source": [
    "# in weights_actor_critic5_ ci sta quello del plot"
   ]
  },
  {
   "cell_type": "code",
   "execution_count": 3,
   "id": "4ab33204-15a0-452d-883b-7885d6158037",
   "metadata": {},
   "outputs": [],
   "source": [
    "with open('values/V_agg2.pkl', \"rb\") as fp: \n",
    "    V_agg = pickle.load(fp)\n",
    "with open('values/V_star2.pkl', \"rb\") as fp: \n",
    "    V_star = pickle.load(fp)\n",
    "with open('values/V_opt2.pkl', \"rb\") as fp: \n",
    "    V_opt = pickle.load(fp)\n",
    "with open('values/V_exp2.pkl', \"rb\") as fp: \n",
    "    V_exp = pickle.load(fp)"
   ]
  },
  {
   "cell_type": "markdown",
   "id": "1168a273-9c87-467c-a053-f91ac7ccd969",
   "metadata": {
    "tags": []
   },
   "source": [
    "## Import weights"
   ]
  },
  {
   "cell_type": "code",
   "execution_count": 4,
   "id": "dcd481b9-bc44-4859-ba9e-033e5e0788c7",
   "metadata": {},
   "outputs": [],
   "source": [
    "weights_actor_critic = []\n",
    "num_simulations = 10\n",
    "\n",
    "for n in range(num_simulations):\n",
    "    with open('weights/weights_actor_criticBIG_' + str(n) + '.pkl', \"rb\") as fp: #3\n",
    "        weights_actor_critic.append(pickle.load(fp))\n",
    "        \n",
    "#     with open('weights/weights_actor_critic0_' + str(n) + '.pkl', \"rb\") as fp: #3\n",
    "#         weights_actor_critic2.append(pickle.load(fp))\n",
    "        \n",
    "#     with open('weights/weights_actor_critic1_' + str(n) + '.pkl', \"rb\") as fp: #3\n",
    "#         weights_actor_critic3.append(pickle.load(fp))\n",
    "        \n",
    "#     with open('weights/weights_actor_critic6_' + str(n) + '.pkl', \"rb\") as fp: #3\n",
    "#         weights_actor_critic4.append(pickle.load(fp))"
   ]
  },
  {
   "cell_type": "code",
   "execution_count": 5,
   "id": "4981ac8b-278f-4ca7-8365-132152cff44d",
   "metadata": {},
   "outputs": [],
   "source": [
    "# for n in range(num_simulations):\n",
    "#     del weights_actor_critic1[n]['-1'] \n",
    "#     del weights_actor_critic2[n]['-1'] \n",
    "#     del weights_actor_critic3[n]['-1'] \n",
    "#     del weights_actor_critic4[n]['-1']\n",
    "\n",
    "model = StochasticMatching(graph, arrival_rates, queue_max)"
   ]
  },
  {
   "cell_type": "code",
   "execution_count": 6,
   "id": "e77860f2-9cee-4214-8209-d7278eb5b593",
   "metadata": {},
   "outputs": [
    {
     "name": "stderr",
     "output_type": "stream",
     "text": [
      "100%|████████████████████████████████████████| 12/12 [2:34:29<00:00, 772.47s/it]\n"
     ]
    }
   ],
   "source": [
    "model = StochasticMatching(graph, arrival_rates, queue_max)\n",
    "\n",
    "estimated_values = []\n",
    "\n",
    "for policy in tqdm(weights_actor_critic[0].values()):\n",
    "    estimated_values.append(model.run_simulation(policy, experts, eta, discount, cLI))"
   ]
  },
  {
   "cell_type": "code",
   "execution_count": 7,
   "id": "f455a44f-c848-4329-a9ef-d058188788a3",
   "metadata": {
    "tags": []
   },
   "outputs": [],
   "source": [
    "# %%time\n",
    "\n",
    "# rewards_agg_b_expw1 = []\n",
    "# # rewards_agg_b_expw3, rewards_agg_b_expw4 = [], []\n",
    "\n",
    "# state_space_tensor = torch.FloatTensor(model.state_space).unsqueeze(0)\n",
    "\n",
    "# for n in range(num_simulations):\n",
    "    \n",
    "#     rewards_agg_b_expw1.append([])\n",
    "            \n",
    "#     for policy in tqdm(weights_actor_critic1[n].values()):\n",
    "        \n",
    "       \n",
    "#         P_agg, r_agg = compute_transitions_and_rewards_avg(policy)\n",
    "#         V_agg = compute_value_bellman(P_agg, r_agg)\n",
    "#         V_agg_pi0 = 0\n",
    "#         for i in range(len(verteces)):\n",
    "#             state = np.zeros(len(verteces))\n",
    "#             state[i] += 1\n",
    "#             ind = str(val_list.index(tuple(state)))\n",
    "#             V_agg_pi0 += prob_arrival[i] * V_agg[int(ind)]\n",
    "#         rewards_agg_b_expw1[-1].append(V_agg_pi0)"
   ]
  },
  {
   "cell_type": "code",
   "execution_count": 8,
   "id": "6b357bee-ed87-421e-9fe9-47b3674c0c29",
   "metadata": {},
   "outputs": [],
   "source": [
    "# rewards_agg_b_expw1.pop(2)"
   ]
  },
  {
   "cell_type": "code",
   "execution_count": null,
   "id": "fba1b1d3-4800-45c7-9528-03fee403d6f2",
   "metadata": {},
   "outputs": [],
   "source": []
  },
  {
   "cell_type": "markdown",
   "id": "43bfd823-8f06-45dc-a5c8-40e5bdd3f2b9",
   "metadata": {
    "tags": []
   },
   "source": [
    "# Final Plot"
   ]
  },
  {
   "cell_type": "markdown",
   "id": "ee3722a2-0d68-4aed-be1a-6b235d65cf1e",
   "metadata": {
    "tags": []
   },
   "source": [
    "## average over $\\pi_0$"
   ]
  },
  {
   "cell_type": "code",
   "execution_count": 11,
   "id": "c3393d3b-2063-4cb2-91da-e5ffb6c132e7",
   "metadata": {},
   "outputs": [],
   "source": [
    "# V_star_pi0 = 0\n",
    "# for i in range(len(verteces)):\n",
    "#     state = np.zeros(len(verteces))\n",
    "#     state[i] += 1\n",
    "#     ind = str(val_list.index(tuple(state)))\n",
    "#     V_star_pi0 += prob_arrival[i] * V_star[int(ind)]\n",
    "#     #print(state_space_ind[ind])\n",
    "    \n",
    "# V_opt_pi0 = 0\n",
    "# for i in range(len(verteces)):\n",
    "#     state = np.zeros(len(verteces))\n",
    "#     state[i] += 1\n",
    "#     ind = str(val_list.index(tuple(state)))\n",
    "#     V_opt_pi0 += prob_arrival[i] * V_opt[int(ind)]\n",
    "#     #print(state_space_ind[ind])"
   ]
  },
  {
   "cell_type": "code",
   "execution_count": null,
   "id": "484c8c9c-5eb7-4f96-a5b6-4de341a30010",
   "metadata": {},
   "outputs": [],
   "source": [
    "# V_exp_pi0 = {str(exp) : 0 for exp in experts}\n",
    "# for v, exp in zip(V_exp, experts):\n",
    "#     for i in range(len(verteces)):\n",
    "#         state = np.zeros(len(verteces))\n",
    "#         state[i] += 1\n",
    "#         ind = str(val_list.index(tuple(state)))\n",
    "#         V_exp_pi0[str(exp)] += prob_arrival[i] * v[int(ind)]\n",
    "#         #print(state_space_ind[ind])"
   ]
  },
  {
   "cell_type": "markdown",
   "id": "84cd1e4d-fbdd-47a2-bff8-b6d967c92403",
   "metadata": {},
   "source": [
    "## Plot"
   ]
  },
  {
   "cell_type": "code",
   "execution_count": 19,
   "id": "530033f0-7d19-4876-a0de-38d70623ec4d",
   "metadata": {},
   "outputs": [
    {
     "data": {
      "image/png": "[encoded data removed]",
      "text/plain": [
       "<Figure size 1000x800 with 1 Axes>"
      ]
     },
     "metadata": {},
     "output_type": "display_data"
    }
   ],
   "source": [
    "values_list = []\n",
    "\n",
    "updates_x = np.array(range(12)) #* 100 #* 5000\n",
    "updates_NN = np.array(range(22)) * 100 \n",
    "\n",
    "figure(figsize=(10, 8))\n",
    "\n",
    "# updates_x = np.arange(len(rewards_expw1_mean)) * 10 * 10\n",
    "\n",
    "\n",
    "plt.hlines(V_star_pi0, 0, updates_x[-1], 'black',  linewidth=1.1, label = '$V^{\\star}(\\mu_0), V_{q_\\star\\Pi}(\\mu_0)$')\n",
    "# plt.hlines(V_opt_pi0, 0, updates_x[-1], 'black', ls ='dashdot',  linewidth=1.1, label = '$V_{q_\\star\\Pi}(\\mu_0)$')\n",
    "\n",
    "# plt.plot(estimated_values)\n",
    "\n",
    "\n",
    "# plt.plot(updates_x, rewards_agg_b_expw1[0], label='policy NN with tabular A')\n",
    "# plt.plot(updates_x, rewards_agg_b_expw2[0], label='tabular policy with A NN')\n",
    "# plt.plot(updates_x, rewards_agg_b_expw3[1], label='mix 1')\n",
    "# plt.plot(updates_x, rewards_agg_b_expw4[0], label='mix 2')\n",
    "\n",
    "\n",
    "# ci1 = 2 * rewards_expw1_std\n",
    "# plt.plot(updates_x, rewards_expw1_mean, 'C1', linewidth=.8, label='$V_{q_{NN}\\Pi}$ (exponential pot. $\\eta$ fixed)')\n",
    "# plt.fill_between(updates_x, (rewards_expw1_mean-ci1), (rewards_expw1_mean+ci1), color='C1', alpha=.1)\n",
    "\n",
    "# ci2 = 2 * rewards_expw2_std \n",
    "# plt.plot(updates_x, rewards_expw2_mean, 'C2', linewidth=.8, label='$V_{q_{NN}\\Pi}$ (exponential pot. $\\eta$ fixed)')\n",
    "# plt.fill_between(updates_x, (rewards_expw2_mean-ci2), (rewards_expw2_mean+ci2), color='C2', alpha=.1)\n",
    "\n",
    "# ci3 = 2 * rewards_expw3_std\n",
    "# plt.plot(updates_x, rewards_expw3_mean, 'C3', linewidth=.8, label='$V_{q_{NN}\\Pi}$ (exponential pot. $\\eta_t$)')\n",
    "# plt.fill_between(updates_x, (rewards_expw3_mean-ci3), (rewards_expw3_mean+ci3), color='C3', alpha=.1)\n",
    "\n",
    "# ci4 = 2 * rewards_expw4_std\n",
    "# plt.plot(updates_x, rewards_expw4_mean, 'C4', linewidth=.8, label='$V_{q_{NN}\\Pi}$ (polynomial pot.)')\n",
    "# plt.fill_between(updates_x, (rewards_expw4_mean-ci4), (rewards_expw4_mean+ci4), color='C4', alpha=.1)\n",
    "\n",
    "        \n",
    "c = ['dimgrey', 'darkgrey', 'lightgrey', 'grey', 'darkgrey']\n",
    "count = 0\n",
    "    \n",
    "V_exp_sorted = sorted(V_exp_pi0.items(), key=lambda x:x[1], reverse= True)\n",
    "\n",
    "for item in V_exp_sorted:\n",
    "    plt.hlines(item[1], 0, updates_x[-1], c[count], linestyle='dashed', linewidth=1.1, label = '$V_{\\pi_' + str(exp_ind[item[0]] +1 ) + '}(\\mu_0)$')\n",
    "    count += 1\n",
    "\n",
    "\n",
    "plt.xlabel('$t$', fontsize=16)\n",
    "plt.ylabel('V-value', fontsize=16)\n",
    "# plt.xlim((0, 1000))\n",
    "# plt.ylim((1.08, 1.09))\n",
    "#plt.title('Values comparison')\n",
    "plt.legend(loc='lower right', fontsize=16)\n",
    "#plt.legend(loc='center left', bbox_to_anchor=(1, 0.5))\n",
    "plt.tight_layout()\n",
    "plt.savefig('figures/policies_learning_comparison__.pdf')"
   ]
  },
  {
   "cell_type": "code",
   "execution_count": null,
   "id": "b433760d-3873-40a5-a11b-d0240ac80125",
   "metadata": {},
   "outputs": [],
   "source": []
  },
  {
   "cell_type": "code",
   "execution_count": null,
   "id": "2d3478db-126d-40a8-83bb-791f94db5897",
   "metadata": {},
   "outputs": [],
   "source": []
  }
 ],
 "metadata": {
  "kernelspec": {
   "display_name": "Python 3 (ipykernel)",
   "language": "python",
   "name": "python3"
  },
  "language_info": {
   "codemirror_mode": {
    "name": "ipython",
    "version": 3
   },
   "file_extension": ".py",
   "mimetype": "text/x-python",
   "name": "python",
   "nbconvert_exporter": "python",
   "pygments_lexer": "ipython3",
   "version": "3.9.13"
  }
 },
 "nbformat": 4,
 "nbformat_minor": 5
}
