{
 "cells": [
  {
   "cell_type": "code",
   "execution_count": 6,
   "id": "5c67b719-b664-4fd8-93f0-bc0b8b4d9d80",
   "metadata": {},
   "outputs": [],
   "source": [
    "import queue_system2 as qs"
   ]
  }
 ],
 "metadata": {
  "kernelspec": {
   "display_name": "Python 3 (ipykernel)",
   "language": "python",
   "name": "python3"
  },
  "language_info": {
   "codemirror_mode": {
    "name": "ipython",
    "version": 3
   },
   "file_extension": ".py",
   "mimetype": "text/x-python",
   "name": "python",
   "nbconvert_exporter": "python",
   "pygments_lexer": "ipython3",
   "version": "3.9.13"
  }
 },
 "nbformat": 4,
 "nbformat_minor": 5
}
