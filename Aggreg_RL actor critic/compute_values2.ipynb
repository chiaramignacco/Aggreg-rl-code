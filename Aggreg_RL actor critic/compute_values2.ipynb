{
 "cells": [
  {
   "cell_type": "code",
   "execution_count": 1,
   "id": "16580e8f-432a-4f4e-9cb2-1ceffc918ef3",
   "metadata": {},
   "outputs": [
    {
     "name": "stdout",
     "output_type": "stream",
     "text": [
      "Dictionary representation:\n",
      "0: [(4, 500.0), (5, 200.0), (6, 50.0), (9, 50.0), (7, 500.0), (13, 500.0), (15, 50.0), (12, 50.0), (10, 500.0), (11, 200.0), (8, 200.0), (14, 200.0)]\n",
      "1: [(7, 500.0), (9, 50.0), (13, 500.0), (15, 50.0), (8, 200.0), (14, 200.0)]\n",
      "2: [(10, 500.0), (12, 50.0), (13, 500.0), (15, 50.0), (11, 200.0), (14, 200.0)]\n",
      "3: [(13, 500.0), (15, 50.0), (14, 200.0)]\n",
      "4: [(0, 500.0)]\n",
      "5: [(0, 200.0)]\n",
      "6: [(0, 50.0)]\n",
      "7: [(1, 500.0), (0, 500.0)]\n",
      "8: [(1, 200.0), (0, 200.0)]\n",
      "9: [(1, 50.0), (0, 50.0)]\n",
      "10: [(2, 500.0), (0, 500.0)]\n",
      "11: [(0, 200.0), (2, 200.0)]\n",
      "12: [(2, 50.0), (0, 50.0)]\n",
      "13: [(3, 500.0), (0, 500.0), (1, 500.0), (2, 500.0)]\n",
      "14: [(0, 200.0), (1, 200.0), (2, 200.0), (3, 200.0)]\n",
      "15: [(3, 50.0), (0, 50.0), (1, 50.0), (2, 50.0)]\n"
     ]
    }
   ],
   "source": [
    "%load_ext autoreload \n",
    "%autoreload 2\n",
    "\n",
    "from imports import *\n",
    "import queue_system2 as qs\n",
    "from queue_system import *\n",
    "\n",
    "seed = random.seed(10)\n",
    "seed_np = np.random.seed(10)"
   ]
  },
  {
   "cell_type": "markdown",
   "id": "fd9aebcd-8846-4ef4-ae4e-77884bb8d5a4",
   "metadata": {},
   "source": [
    "# Dynamic Programming"
   ]
  },
  {
   "cell_type": "markdown",
   "id": "a87e4fb0-c67d-44ed-9e7a-dac915adbae8",
   "metadata": {},
   "source": [
    "## Compute $V^{q_\\star} $"
   ]
  },
  {
   "cell_type": "code",
   "execution_count": 2,
   "id": "8c4126c6-c6a9-4304-bf4b-1c311bf894a5",
   "metadata": {},
   "outputs": [
    {
     "name": "stdout",
     "output_type": "stream",
     "text": [
      "delta ->  1083.9475319925361\n",
      "delta ->  199.38374094720166\n",
      "delta ->  96.58400903404838\n",
      "delta ->  54.39841806576203\n",
      "delta ->  30.487089454614136\n",
      "delta ->  17.316092397173577\n",
      "delta ->  9.94777402392873\n",
      "delta ->  5.851176304839555\n",
      "delta ->  4.005170173097426\n",
      "delta ->  2.753137761944302\n",
      "delta ->  1.8838655149872636\n",
      "delta ->  1.2847520284474854\n",
      "delta ->  0.8739331413373748\n",
      "delta ->  0.5932938370562795\n",
      "delta ->  0.4021421803287666\n",
      "delta ->  0.27223747884794136\n",
      "delta ->  0.18411223571746405\n",
      "delta ->  0.12441371351906128\n",
      "delta ->  0.08401778028036233\n",
      "delta ->  0.05670799898784651\n",
      "delta ->  0.03825867040409037\n",
      "delta ->  0.025802504530275883\n",
      "delta ->  0.017396737163011267\n",
      "delta ->  0.011726543930990374\n",
      "delta ->  0.007902905248101888\n",
      "delta ->  0.005325163085586837\n",
      "delta ->  0.003587737443396577\n",
      "delta ->  0.0024169074584676764\n",
      "delta ->  0.0016280182574774926\n",
      "delta ->  0.0010965418310036057\n",
      "delta ->  0.0007385220024787031\n",
      "delta ->  0.0004973688944858168\n",
      "delta ->  0.0003349458472854394\n",
      "delta ->  0.00022555609020002976\n",
      "delta ->  0.00015188719027037223\n",
      "delta ->  0.00010227666727757878\n",
      "delta ->  6.886882066226008e-05\n",
      "delta ->  4.637254215822395e-05\n",
      "delta ->  3.122429302493401e-05\n",
      "delta ->  2.102416864602219e-05\n",
      "delta ->  1.4155996339582089e-05\n",
      "delta ->  9.531432624498848e-06\n",
      "CPU times: user 1min 45s, sys: 213 ms, total: 1min 45s\n",
      "Wall time: 1min 46s\n"
     ]
    }
   ],
   "source": [
    "%%time\n",
    "\n",
    "P, r = compute_transitions_and_rewards_experts()\n",
    "\n",
    "# Initialize the value function\n",
    "V_agg = np.zeros(num_states)\n",
    "\n",
    "P, r = compute_transitions_and_rewards_experts()\n",
    "\n",
    "# Perform value iteration\n",
    "num_iterations = 1000\n",
    "tolerance = 1e-5\n",
    "\n",
    "optimal_weights = np.zeros(num_states, dtype=int)\n",
    "\n",
    "for i in range(num_iterations):\n",
    "    delta = 0\n",
    "    for s in range(num_states):\n",
    "        v = V_agg[s]\n",
    "        max_q_value = -np.inf\n",
    "        best_expert = None\n",
    "        for a in range(num_exp):\n",
    "            q_value = 0\n",
    "            for prob, next_s, reward in zip(P[s, a], list(range(num_states)), r[s, a]):\n",
    "                q_value += prob * (reward + discount * V_agg[next_s])\n",
    "            if q_value > max_q_value:\n",
    "                max_q_value = q_value\n",
    "                best_expert = a\n",
    "        V_agg[s] = max_q_value\n",
    "        optimal_weights[s] = best_expert\n",
    "        #print(best_expert)\n",
    "        delta = max(delta, abs(v - V_agg[s]))\n",
    "    \n",
    "    print('delta -> ', delta)\n",
    "    if delta < tolerance:\n",
    "        break\n",
    "\n",
    "# Extract the optimal policy"
   ]
  },
  {
   "cell_type": "code",
   "execution_count": 3,
   "id": "179c09a5-b728-44c8-a2af-e6303f224a1f",
   "metadata": {},
   "outputs": [],
   "source": [
    "with open('values/V_agg2.pkl', 'wb') as output:\n",
    "    pickle.dump(V_agg, output) "
   ]
  },
  {
   "cell_type": "markdown",
   "id": "3149d714-c632-4e2f-bccb-fd643ef020bc",
   "metadata": {},
   "source": [
    "## Compute $V^\\star $"
   ]
  },
  {
   "cell_type": "code",
   "execution_count": 4,
   "id": "0239362d-2f44-4994-bdcb-5deadbf4eeeb",
   "metadata": {},
   "outputs": [
    {
     "name": "stdout",
     "output_type": "stream",
     "text": [
      "delta ->  759.7834877860779\n",
      "delta ->  199.93489458094965\n",
      "delta ->  96.71979418005148\n",
      "delta ->  54.652733913435185\n",
      "delta ->  30.566306057649456\n",
      "delta ->  17.393353319775542\n",
      "delta ->  10.038206882758288\n",
      "delta ->  5.98917728310596\n",
      "delta ->  4.058163200488025\n",
      "delta ->  2.7903340653776496\n",
      "delta ->  1.9097748680645878\n",
      "delta ->  1.3026711824024488\n",
      "delta ->  0.8862606323757092\n",
      "delta ->  0.6017452986554161\n",
      "delta ->  0.40792385506638595\n",
      "delta ->  0.2761868136131085\n",
      "delta ->  0.1868072498142226\n",
      "delta ->  0.12625153981984738\n",
      "delta ->  0.08527042220660519\n",
      "delta ->  0.05756145553220904\n",
      "delta ->  0.0388399769480543\n",
      "delta ->  0.026198348410161998\n",
      "delta ->  0.017666235679399733\n",
      "delta ->  0.011909993351409298\n",
      "delta ->  0.008027762540208983\n",
      "delta ->  0.00541013131007162\n",
      "delta ->  0.0036455536757955542\n",
      "delta ->  0.002456244144639186\n",
      "delta ->  0.0016547793333074878\n",
      "delta ->  0.0011147459416918082\n",
      "delta ->  0.0007509041839313113\n",
      "delta ->  0.0005057903646417117\n",
      "delta ->  0.00034067305105622836\n",
      "delta ->  0.0002294506825961662\n",
      "delta ->  0.0001545353644161196\n",
      "delta ->  0.00010407718173155445\n",
      "delta ->  7.009290820292335e-05\n",
      "delta ->  4.720467842389553e-05\n",
      "delta ->  3.1789936315362866e-05\n",
      "delta ->  2.140863404065385e-05\n",
      "delta ->  1.4417295830071453e-05\n",
      "delta ->  9.70900956076548e-06\n",
      "CPU times: user 2min 3s, sys: 434 ms, total: 2min 4s\n",
      "Wall time: 2min 4s\n"
     ]
    }
   ],
   "source": [
    "%%time\n",
    "\n",
    "# Initialize the value function\n",
    "\n",
    "\n",
    "P, r = compute_transitions_and_rewards_actions()\n",
    "\n",
    "# Perform value iteration\n",
    "num_iterations = 1000\n",
    "tolerance = 1e-5\n",
    "\n",
    "policy = np.zeros(num_states, dtype=int)\n",
    "V_star = np.zeros(num_states)\n",
    "\n",
    "for i in range(num_iterations):\n",
    "    delta = 0\n",
    "    for s in range(num_states):\n",
    "        v = V_star[s]\n",
    "        #print(v)\n",
    "        max_q_value = -np.inf\n",
    "        best_expert = None\n",
    "        for a in range(num_actions):\n",
    "            if np.sum(P[s, a, :]) != 0:\n",
    "                q_value = 0\n",
    "                for prob, next_s, reward in zip(P[s, a], list(range(num_states)), r[s, a]):\n",
    "                    q_value += prob * (reward + discount * V_star[next_s])\n",
    "                if q_value > max_q_value:\n",
    "                    max_q_value = q_value\n",
    "                    best_expert = a\n",
    "        V_star[s] = max_q_value\n",
    "        #print(s, max_q_value, delta, v)\n",
    "        policy[s] = best_expert\n",
    "        delta = max(delta, abs(v - V_star[s]))\n",
    "    \n",
    "    print('delta -> ', delta)\n",
    "    if delta < tolerance:\n",
    "        break"
   ]
  },
  {
   "cell_type": "code",
   "execution_count": 5,
   "id": "0d50f554-ea5b-4602-8b6b-59edc92d5fb5",
   "metadata": {},
   "outputs": [
    {
     "name": "stdout",
     "output_type": "stream",
     "text": [
      "Dictionary representation:\n",
      "0: [(4, 500.0), (5, 200.0), (6, 50.0), (9, 50.0), (7, 500.0), (13, 500.0), (15, 50.0), (12, 50.0), (10, 500.0), (11, 200.0), (8, 200.0), (14, 200.0)]\n",
      "1: [(7, 500.0), (9, 50.0), (13, 500.0), (15, 50.0), (8, 200.0), (14, 200.0)]\n",
      "2: [(10, 500.0), (12, 50.0), (13, 500.0), (15, 50.0), (11, 200.0), (14, 200.0)]\n",
      "3: [(13, 500.0), (15, 50.0), (14, 200.0)]\n",
      "4: [(0, 500.0)]\n",
      "5: [(0, 200.0)]\n",
      "6: [(0, 50.0)]\n",
      "7: [(1, 500.0), (0, 500.0)]\n",
      "8: [(1, 200.0), (0, 200.0)]\n",
      "9: [(1, 50.0), (0, 50.0)]\n",
      "10: [(2, 500.0), (0, 500.0)]\n",
      "11: [(0, 200.0), (2, 200.0)]\n",
      "12: [(2, 50.0), (0, 50.0)]\n",
      "13: [(3, 500.0), (0, 500.0), (1, 500.0), (2, 500.0)]\n",
      "14: [(0, 200.0), (1, 200.0), (2, 200.0), (3, 200.0)]\n",
      "15: [(3, 50.0), (0, 50.0), (1, 50.0), (2, 50.0)]\n"
     ]
    }
   ],
   "source": [
    "P, r = compute_transitions_and_rewards_actions()"
   ]
  },
  {
   "cell_type": "code",
   "execution_count": 6,
   "id": "25f4f3f2-b2ff-4ea2-9116-a42481d13a79",
   "metadata": {},
   "outputs": [],
   "source": [
    "with open('values/V_star2.pkl', 'wb') as output:\n",
    "    pickle.dump(V_star, output)      "
   ]
  },
  {
   "cell_type": "code",
   "execution_count": 7,
   "id": "229f1e81-57ef-4c67-82d9-e8b838b8fee4",
   "metadata": {},
   "outputs": [],
   "source": [
    "V_exp = []\n",
    "for i in range(num_exp):\n",
    "    w = np.zeros(num_exp)\n",
    "    w[i] = 1\n",
    "    weights_exp = np.array([w]* num_states)\n",
    "    P_avg, r_avg = compute_transitions_and_rewards_avg(weights_exp)\n",
    "    V_exp.append(compute_value_bellman(P_avg, r_avg))\n",
    "\n",
    "weights_dict_opt = np.zeros((num_states, num_exp))\n",
    "\n",
    "for s in state_space_ind:\n",
    "    w = np.zeros(num_exp)\n",
    "    i = optimal_weights[int(s)]\n",
    "    w[i] = 1\n",
    "    weights_dict_opt[int(s)] = w\n",
    "    \n",
    "P_opt, r_opt = compute_transitions_and_rewards_avg(weights_dict_opt)\n",
    "V_opt = compute_value_bellman(P_opt, r_opt)"
   ]
  },
  {
   "cell_type": "code",
   "execution_count": 8,
   "id": "f714fb87-a993-4c93-9935-b323e536139c",
   "metadata": {},
   "outputs": [],
   "source": [
    "with open('values/V_opt2.pkl', 'wb') as output:\n",
    "    pickle.dump(V_opt, output)  \n",
    "with open('values/V_exp2.pkl', 'wb') as output:\n",
    "    pickle.dump(V_exp, output)  "
   ]
  }
 ],
 "metadata": {
  "kernelspec": {
   "display_name": "Python 3 (ipykernel)",
   "language": "python",
   "name": "python3"
  },
  "language_info": {
   "codemirror_mode": {
    "name": "ipython",
    "version": 3
   },
   "file_extension": ".py",
   "mimetype": "text/x-python",
   "name": "python",
   "nbconvert_exporter": "python",
   "pygments_lexer": "ipython3",
   "version": "3.9.13"
  }
 },
 "nbformat": 4,
 "nbformat_minor": 5
}
