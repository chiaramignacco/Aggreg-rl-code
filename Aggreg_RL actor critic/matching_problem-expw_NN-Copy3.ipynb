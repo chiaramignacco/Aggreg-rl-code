{
 "cells": [
  {
   "cell_type": "code",
   "execution_count": 1,
   "id": "a1f3f280-dc68-4788-b5cc-879f82abf9b9",
   "metadata": {},
   "outputs": [
    {
     "name": "stdout",
     "output_type": "stream",
     "text": [
      "Dictionary representation:\n",
      "0: [(4, 500.0), (5, 200.0), (6, 50.0), (9, 50.0), (7, 500.0), (13, 500.0), (15, 50.0), (12, 50.0), (10, 500.0), (11, 200.0), (8, 200.0), (14, 200.0)]\n",
      "1: [(7, 500.0), (9, 50.0), (13, 500.0), (15, 50.0), (8, 200.0), (14, 200.0)]\n",
      "2: [(10, 500.0), (12, 50.0), (13, 500.0), (15, 50.0), (11, 200.0), (14, 200.0)]\n",
      "3: [(13, 500.0), (15, 50.0), (14, 200.0)]\n",
      "4: [(0, 500.0)]\n",
      "5: [(0, 200.0)]\n",
      "6: [(0, 50.0)]\n",
      "7: [(1, 500.0), (0, 500.0)]\n",
      "8: [(1, 200.0), (0, 200.0)]\n",
      "9: [(1, 50.0), (0, 50.0)]\n",
      "10: [(2, 500.0), (0, 500.0)]\n",
      "11: [(0, 200.0), (2, 200.0)]\n",
      "12: [(2, 50.0), (0, 50.0)]\n",
      "13: [(3, 500.0), (0, 500.0), (1, 500.0), (2, 500.0)]\n",
      "14: [(0, 200.0), (1, 200.0), (2, 200.0), (3, 200.0)]\n",
      "15: [(3, 50.0), (0, 50.0), (1, 50.0), (2, 50.0)]\n"
     ]
    }
   ],
   "source": [
    "%load_ext autoreload \n",
    "%autoreload 2\n",
    "\n",
    "from imports2 import *\n",
    "import queue_system as qs\n",
    "from queue_system2 import *\n",
    "\n",
    "seed = random.seed(10)\n",
    "seed_np = np.random.seed(10)"
   ]
  },
  {
   "cell_type": "markdown",
   "id": "75733413-fa22-4a27-8cb0-b0c246d96ba3",
   "metadata": {
    "tags": []
   },
   "source": [
    "# Aggregation"
   ]
  },
  {
   "cell_type": "code",
   "execution_count": 2,
   "id": "9d7bebdc-9f38-4786-a180-c0177c1ab07f",
   "metadata": {},
   "outputs": [],
   "source": [
    "with open('Q/Q_start.pkl', \"rb\") as fp:\n",
    "    Q_start = pickle.load(fp)"
   ]
  },
  {
   "cell_type": "code",
   "execution_count": 3,
   "id": "6ae40a71-fb64-4ab3-a642-c3f559631f2d",
   "metadata": {},
   "outputs": [],
   "source": [
    "weights_dict = {}\n",
    "# model_agg = Aggregation(graph, arrival_rates, experts, eta, queue_max)\n",
    "# model = StochasticMatching(graph, arrival_rates, queue_max)\n",
    "\n",
    "len_updates = 100\n",
    "res = int(len_updates / 50)      \n",
    "\n",
    "\n",
    "weights_dict['-1'] = {state: np.array([1/K] * K) for state in state_space_ind.keys()}\n",
    "\n",
    "repeat_weights = 10\n",
    "learning_rate = 0.1\n",
    "num_episodes = 1"
   ]
  },
  {
   "cell_type": "code",
   "execution_count": 4,
   "id": "7a4e904d-d588-43cb-a2ed-a37313679f4d",
   "metadata": {
    "tags": []
   },
   "outputs": [
    {
     "name": "stderr",
     "output_type": "stream",
     "text": [
      "100%|███████████████████████████████████████| 101/101 [1:27:11<00:00, 51.80s/it]\n",
      "100%|███████████████████████████████████████| 101/101 [1:17:59<00:00, 46.33s/it]\n",
      "100%|███████████████████████████████████████| 101/101 [1:19:05<00:00, 46.98s/it]\n",
      "100%|███████████████████████████████████████| 101/101 [1:19:53<00:00, 47.46s/it]\n",
      "100%|███████████████████████████████████████| 101/101 [1:23:23<00:00, 49.54s/it]\n",
      "100%|███████████████████████████████████████| 101/101 [1:20:22<00:00, 47.75s/it]\n",
      "100%|███████████████████████████████████████| 101/101 [1:19:46<00:00, 47.40s/it]\n",
      "100%|███████████████████████████████████████| 101/101 [1:19:30<00:00, 47.23s/it]\n",
      "100%|███████████████████████████████████████| 101/101 [1:19:16<00:00, 47.09s/it]\n",
      "100%|███████████████████████████████████████| 101/101 [1:20:14<00:00, 47.67s/it]"
     ]
    },
    {
     "name": "stdout",
     "output_type": "stream",
     "text": [
      "CPU times: user 18h 37min 34s, sys: 1d 12h 39min 11s, total: 2d 7h 16min 45s\n",
      "Wall time: 13h 26min 45s\n"
     ]
    },
    {
     "name": "stderr",
     "output_type": "stream",
     "text": [
      "\n"
     ]
    }
   ],
   "source": [
    "%%time \n",
    "random.seed(6)\n",
    "np.random.seed(6)\n",
    "for n in range(repeat_weights):\n",
    "    weights_dict = {}\n",
    "    model_agg = Aggregation(graph, arrival_rates, experts, eta, queue_max, lambda_l2=0, lambda_l1=0, lr=1e-3, Q=Q_start)\n",
    "    model = StochasticMatching(graph, arrival_rates, queue_max)\n",
    "    weights_dict['-1'] =  np.ones([num_states, K]) / K\n",
    "    \n",
    "    epsilon_start = 0.3\n",
    "    lr = 0.05\n",
    "    \n",
    "    for i in tqdm(range(len_updates + 1)):\n",
    "        if (i <= 200) and (i%10 == 0):\n",
    "            weights = model_agg.train_actor_critic(num_episodes, lr, epsilon_start)\n",
    "            weights_dict[str(i)] = copy.deepcopy(weights) #.copy()\n",
    "        else:\n",
    "            weights = model_agg.train_actor_critic(num_episodes, lr, epsilon_start)\n",
    "            \n",
    "        lr = lr * 0.9\n",
    "            \n",
    "    with open('weights/weights_actor_criticBIG_' + str(n) + '.pkl', 'wb') as output:\n",
    "        pickle.dump(weights_dict, output)      \n",
    "        \n",
    "        \n",
    "#stoch_match 3 PROVA SOLO ADVANTAGE NN "
   ]
  }
 ],
 "metadata": {
  "kernelspec": {
   "display_name": "Python 3 (ipykernel)",
   "language": "python",
   "name": "python3"
  },
  "language_info": {
   "codemirror_mode": {
    "name": "ipython",
    "version": 3
   },
   "file_extension": ".py",
   "mimetype": "text/x-python",
   "name": "python",
   "nbconvert_exporter": "python",
   "pygments_lexer": "ipython3",
   "version": "3.9.13"
  }
 },
 "nbformat": 4,
 "nbformat_minor": 5
}
